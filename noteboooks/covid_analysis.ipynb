{
 "nbformat": 4,
 "nbformat_minor": 2,
 "metadata": {
  "language_info": {
   "name": "python",
   "codemirror_mode": {
    "name": "ipython",
    "version": 3
   },
   "version": "3.7.3-final"
  },
  "orig_nbformat": 2,
  "file_extension": ".py",
  "mimetype": "text/x-python",
  "name": "python",
  "npconvert_exporter": "python",
  "pygments_lexer": "ipython3",
  "version": 3,
  "kernelspec": {
   "name": "python37364bitdockercondaa5b4f2e7dbab413cac923ad1eb7c6587",
   "display_name": "Python 3.7.3 64-bit ('docker': conda)"
  }
 },
 "cells": [
  {
   "cell_type": "code",
   "execution_count": 1,
   "metadata": {},
   "outputs": [
    {
     "output_type": "stream",
     "name": "stdout",
     "text": "['D:\\\\ProgramData\\\\Anaconda3\\\\envs\\\\docker\\\\lib\\\\site-packages\\\\ipykernel_launcher.py', '-f', 'C:\\\\Users\\\\aminm\\\\AppData\\\\Roaming\\\\jupyter\\\\runtime\\\\kernel-e0776e5d-f087-4aea-9ccb-d30d097fe382.json']\n['D:\\\\ProgramData\\\\Anaconda3\\\\envs\\\\docker\\\\lib\\\\site-packages\\\\ipykernel_launcher.py', '-f', 'C:\\\\Users\\\\aminm\\\\AppData\\\\Roaming\\\\jupyter\\\\runtime\\\\kernel-e0776e5d-f087-4aea-9ccb-d30d097fe382.json']\n"
    },
    {
     "output_type": "execute_result",
     "data": {
      "text/plain": "<module 'covid_utils' from '../covid_analysis\\\\covid_utils.py'>"
     },
     "metadata": {},
     "execution_count": 1
    }
   ],
   "source": [
    "## libraries\n",
    "sys.path.append(\"../covid_analysis/\")\n",
    "import importlib\n",
    "import sys\n",
    "import os\n",
    "import numpy as np\n",
    "import pandas as pd \n",
    "import seaborn as sns\n",
    "import logging\n",
    "\n",
    "## custom libraries\n",
    "\n",
    "import covid_utils as cu\n",
    "importlib.reload(cu)\n",
    ""
   ]
  },
  {
   "cell_type": "code",
   "execution_count": 2,
   "metadata": {},
   "outputs": [],
   "source": [
    "# Add logging feature to capture daily changes\n",
    "logging.basicConfig(filename=\"covid_compile.log\",\n",
    "                    format='%(asctime)s %(message)s',\n",
    "                    filemode='a', level=logging.DEBUG)\n",
    "\n",
    "# Creating an object\n",
    "logger = logging.getLogger()"
   ]
  },
  {
   "cell_type": "code",
   "execution_count": 3,
   "metadata": {},
   "outputs": [],
   "source": [
    "## files and directories\n",
    "dir_input = '../COVID-19/csse_covid_19_data/csse_covid_19_daily_reports/'\n",
    "file_pattern = '*.csv'\n",
    "\n",
    "file_census_county = '../data/census2010_19/co-est2019-alldata.csv'\n",
    "\n",
    "## column names to rename\n",
    "# ref https://www.geeksforgeeks.org/how-to-rename-columns-in-pandas-dataframe/\n",
    "\n",
    "column_rename = {'Country/Region':'Country_Region', 'Province/State':'Province_State', 'Last Update':'Last_Update','Latitude':'Lat' , 'Longitude':'Long_'}\n",
    "\n",
    "## US states abbreviation\n",
    "us_state_abbrev = {\n",
    "    'Alabama': 'AL',\n",
    "    'Alaska': 'AK',\n",
    "    'American Samoa': 'AS',\n",
    "    'Arizona': 'AZ',\n",
    "    'Arkansas': 'AR',\n",
    "    'California': 'CA',\n",
    "    'Colorado': 'CO',\n",
    "    'Connecticut': 'CT',\n",
    "    'Delaware': 'DE',\n",
    "    'District of Columbia': 'DC',\n",
    "    'Florida': 'FL',\n",
    "    'Georgia': 'GA',\n",
    "    'Guam': 'GU',\n",
    "    'Hawaii': 'HI',\n",
    "    'Idaho': 'ID',\n",
    "    'Illinois': 'IL',\n",
    "    'Indiana': 'IN',\n",
    "    'Iowa': 'IA',\n",
    "    'Kansas': 'KS',\n",
    "    'Kentucky': 'KY',\n",
    "    'Louisiana': 'LA',\n",
    "    'Maine': 'ME',\n",
    "    'Maryland': 'MD',\n",
    "    'Massachusetts': 'MA',\n",
    "    'Michigan': 'MI',\n",
    "    'Minnesota': 'MN',\n",
    "    'Mississippi': 'MS',\n",
    "    'Missouri': 'MO',\n",
    "    'Montana': 'MT',\n",
    "    'Nebraska': 'NE',\n",
    "    'Nevada': 'NV',\n",
    "    'New Hampshire': 'NH',\n",
    "    'New Jersey': 'NJ',\n",
    "    'New Mexico': 'NM',\n",
    "    'New York': 'NY',\n",
    "    'North Carolina': 'NC',\n",
    "    'North Dakota': 'ND',\n",
    "    'Northern Mariana Islands':'MP',\n",
    "    'Ohio': 'OH',\n",
    "    'Oklahoma': 'OK',\n",
    "    'Oregon': 'OR',\n",
    "    'Pennsylvania': 'PA',\n",
    "    'Puerto Rico': 'PR',\n",
    "    'Rhode Island': 'RI',\n",
    "    'South Carolina': 'SC',\n",
    "    'South Dakota': 'SD',\n",
    "    'Tennessee': 'TN',\n",
    "    'Texas': 'TX',\n",
    "    'Utah': 'UT',\n",
    "    'Vermont': 'VT',\n",
    "    'Virgin Islands': 'VI',\n",
    "    'Virginia': 'VA',\n",
    "    'Washington': 'WA',\n",
    "    'West Virginia': 'WV',\n",
    "    'Wisconsin': 'WI',\n",
    "    'Wyoming': 'WY'\n",
    "}\n",
    ""
   ]
  },
  {
   "cell_type": "code",
   "execution_count": 4,
   "metadata": {},
   "outputs": [
    {
     "output_type": "stream",
     "name": "stdout",
     "text": "Total daily reports: 74\n   Active Admin2 Combined_Key  Confirmed  Country_Region  Deaths  FIPS  \\\n0     NaN    NaN          NaN        1.0  Mainland China     NaN   NaN   \n1     NaN    NaN          NaN       14.0  Mainland China     NaN   NaN   \n2     NaN    NaN          NaN        6.0  Mainland China     NaN   NaN   \n3     NaN    NaN          NaN        1.0  Mainland China     NaN   NaN   \n4     NaN    NaN          NaN        NaN  Mainland China     NaN   NaN   \n\n       Last_Update  Lat  Long_ Province_State  Recovered  \n0  1/22/2020 17:00  NaN    NaN          Anhui        NaN  \n1  1/22/2020 17:00  NaN    NaN        Beijing        NaN  \n2  1/22/2020 17:00  NaN    NaN      Chongqing        NaN  \n3  1/22/2020 17:00  NaN    NaN         Fujian        NaN  \n4  1/22/2020 17:00  NaN    NaN          Gansu        NaN  \nIndex(['Active', 'Admin2', 'Combined_Key', 'Confirmed', 'Country_Region',\n       'Deaths', 'FIPS', 'Last_Update', 'Lat', 'Long_', 'Province_State',\n       'Recovered'],\n      dtype='object')\n                                                           Confirmed  Deaths\nCountry_Region Province_State Admin2  Last_Update                           \nUS             Alabama        Autauga 2020-03-23 23:19:34        0.0     0.0\n                                      2020-03-24 23:37:31        1.0     0.0\n                                      2020-03-25 23:33:19        4.0     0.0\n                                      2020-03-26 23:48:35        6.0     0.0\n                                      2020-03-27 22:14:55        6.0     0.0\n"
    }
   ],
   "source": [
    "# read daily reports\n",
    "\n",
    "combine_df = cu.read_daily_reports(dir_input, file_pattern, rename_col=column_rename)\n",
    "logger.info(f'Dim of combine df: {str(combine_df.shape)}')\n",
    "print(combine_df.head())\n",
    "print(combine_df.columns)\n",
    "\n",
    "list_group = ['Country_Region', 'Province_State','Admin2','Last_Update']\n",
    "list_display = ['Confirmed', 'Deaths']\n",
    "country_summ = cu.summarize_by_county(combine_df, list_group, list_display)\n",
    "print(country_summ.head())"
   ]
  },
  {
   "cell_type": "code",
   "execution_count": 5,
   "metadata": {},
   "outputs": [
    {
     "output_type": "execute_result",
     "data": {
      "text/plain": "   Active Admin2 Combined_Key  Confirmed  Country_Region  Deaths  FIPS  \\\n0     NaN    NaN          NaN        1.0  Mainland China     NaN   NaN   \n1     NaN    NaN          NaN       14.0  Mainland China     NaN   NaN   \n2     NaN    NaN          NaN        6.0  Mainland China     NaN   NaN   \n3     NaN    NaN          NaN        1.0  Mainland China     NaN   NaN   \n4     NaN    NaN          NaN        NaN  Mainland China     NaN   NaN   \n\n       Last_Update  Lat  Long_ Province_State  Recovered Last_Update_date  \n0  1/22/2020 17:00  NaN    NaN          Anhui        NaN        1/22/2020  \n1  1/22/2020 17:00  NaN    NaN        Beijing        NaN        1/22/2020  \n2  1/22/2020 17:00  NaN    NaN      Chongqing        NaN        1/22/2020  \n3  1/22/2020 17:00  NaN    NaN         Fujian        NaN        1/22/2020  \n4  1/22/2020 17:00  NaN    NaN          Gansu        NaN        1/22/2020  ",
      "text/html": "<div>\n<style scoped>\n    .dataframe tbody tr th:only-of-type {\n        vertical-align: middle;\n    }\n\n    .dataframe tbody tr th {\n        vertical-align: top;\n    }\n\n    .dataframe thead th {\n        text-align: right;\n    }\n</style>\n<table border=\"1\" class=\"dataframe\">\n  <thead>\n    <tr style=\"text-align: right;\">\n      <th></th>\n      <th>Active</th>\n      <th>Admin2</th>\n      <th>Combined_Key</th>\n      <th>Confirmed</th>\n      <th>Country_Region</th>\n      <th>Deaths</th>\n      <th>FIPS</th>\n      <th>Last_Update</th>\n      <th>Lat</th>\n      <th>Long_</th>\n      <th>Province_State</th>\n      <th>Recovered</th>\n      <th>Last_Update_date</th>\n    </tr>\n  </thead>\n  <tbody>\n    <tr>\n      <th>0</th>\n      <td>NaN</td>\n      <td>NaN</td>\n      <td>NaN</td>\n      <td>1.0</td>\n      <td>Mainland China</td>\n      <td>NaN</td>\n      <td>NaN</td>\n      <td>1/22/2020 17:00</td>\n      <td>NaN</td>\n      <td>NaN</td>\n      <td>Anhui</td>\n      <td>NaN</td>\n      <td>1/22/2020</td>\n    </tr>\n    <tr>\n      <th>1</th>\n      <td>NaN</td>\n      <td>NaN</td>\n      <td>NaN</td>\n      <td>14.0</td>\n      <td>Mainland China</td>\n      <td>NaN</td>\n      <td>NaN</td>\n      <td>1/22/2020 17:00</td>\n      <td>NaN</td>\n      <td>NaN</td>\n      <td>Beijing</td>\n      <td>NaN</td>\n      <td>1/22/2020</td>\n    </tr>\n    <tr>\n      <th>2</th>\n      <td>NaN</td>\n      <td>NaN</td>\n      <td>NaN</td>\n      <td>6.0</td>\n      <td>Mainland China</td>\n      <td>NaN</td>\n      <td>NaN</td>\n      <td>1/22/2020 17:00</td>\n      <td>NaN</td>\n      <td>NaN</td>\n      <td>Chongqing</td>\n      <td>NaN</td>\n      <td>1/22/2020</td>\n    </tr>\n    <tr>\n      <th>3</th>\n      <td>NaN</td>\n      <td>NaN</td>\n      <td>NaN</td>\n      <td>1.0</td>\n      <td>Mainland China</td>\n      <td>NaN</td>\n      <td>NaN</td>\n      <td>1/22/2020 17:00</td>\n      <td>NaN</td>\n      <td>NaN</td>\n      <td>Fujian</td>\n      <td>NaN</td>\n      <td>1/22/2020</td>\n    </tr>\n    <tr>\n      <th>4</th>\n      <td>NaN</td>\n      <td>NaN</td>\n      <td>NaN</td>\n      <td>NaN</td>\n      <td>Mainland China</td>\n      <td>NaN</td>\n      <td>NaN</td>\n      <td>1/22/2020 17:00</td>\n      <td>NaN</td>\n      <td>NaN</td>\n      <td>Gansu</td>\n      <td>NaN</td>\n      <td>1/22/2020</td>\n    </tr>\n  </tbody>\n</table>\n</div>"
     },
     "metadata": {},
     "execution_count": 5
    }
   ],
   "source": [
    "## Make update date column\n",
    "combine_df['Last_Update_date'] = [str(d).split(' ')[0] for d in combine_df['Last_Update']]\n",
    "combine_df.head()\n",
    ""
   ]
  },
  {
   "cell_type": "code",
   "execution_count": 6,
   "metadata": {},
   "outputs": [],
   "source": [
    "select_col = ['Country_Region',  'Province_State','Admin2','Last_Update', 'Confirmed', 'Deaths', 'Recovered', 'Last_Update_date']\n",
    "combine_subset = combine_df[select_col]\n",
    "\n",
    "## rename states by abbreviations\n",
    "combine_subset = combine_subset"
   ]
  },
  {
   "cell_type": "code",
   "execution_count": 7,
   "metadata": {},
   "outputs": [
    {
     "output_type": "stream",
     "name": "stdout",
     "text": "Joint state: California|CA\n['Washington' 'Chicago' 'Illinois' 'California' 'Arizona' 'Chicago, IL'\n 'Boston, MA' 'Los Angeles, CA' 'Orange, CA' 'Santa Clara, CA'\n 'Seattle, WA' 'Tempe, AZ' 'San Benito, CA' 'Madison, WI'\n 'San Diego County, CA' 'San Antonio, TX' 'Ashland, NE' 'Travis, CA'\n 'Lackland, TX' 'Humboldt County, CA' 'Sacramento County, CA'\n 'Omaha, NE (From Diamond Princess)' 'Travis, CA (From Diamond Princess)'\n 'Lackland, TX (From Diamond Princess)'\n 'Unassigned Location (From Diamond Princess)' 'Portland, OR'\n 'Snohomish County, WA' 'Providence, RI' 'King County, WA'\n 'Cook County, IL' 'Grafton County, NH' 'Hillsborough, FL'\n 'New York City, NY' 'Placer County, CA' 'San Mateo, CA' 'Sarasota, FL'\n 'Sonoma County, CA' 'Umatilla, OR' 'Fulton County, GA'\n 'Washington County, OR' ' Norfolk County, MA' 'Berkeley, CA'\n 'Maricopa County, AZ' 'Wake County, NC' 'Westchester County, NY'\n 'Orange County, CA' 'Contra Costa County, CA' 'Bergen County, NJ'\n 'Harris County, TX' 'San Francisco County, CA' 'Clark County, NV'\n 'Fort Bend County, TX' 'Grant County, WA' 'Queens County, NY'\n 'Santa Rosa County, FL' 'Williamson County, TN' 'New York County, NY'\n 'Unassigned Location, WA' 'Montgomery County, MD' 'Suffolk County, MA'\n 'Denver County, CO' 'Summit County, CO' 'Chatham County, NC'\n 'Delaware County, PA' 'Douglas County, NE' 'Fayette County, KY'\n 'Floyd County, GA' 'Marion County, IN' 'Middlesex County, MA'\n 'Nassau County, NY' 'Norwell County, MA' 'Ramsey County, MN'\n 'Washoe County, NV' 'Wayne County, PA' 'Yolo County, CA'\n 'Santa Clara County, CA' 'Grand Princess Cruise Ship'\n 'Douglas County, CO' 'Providence County, RI' 'Alameda County, CA'\n 'Broward County, FL' 'Fairfield County, CT' 'Lee County, FL'\n 'Pinal County, AZ' 'Rockland County, NY' 'Saratoga County, NY'\n 'Charleston County, SC' 'Clark County, WA' 'Cobb County, GA'\n 'Davis County, UT' 'El Paso County, CO' 'Honolulu County, HI'\n 'Jackson County, OR ' 'Jefferson County, WA' 'Kershaw County, SC'\n 'Klamath County, OR' 'Madera County, CA' 'Pierce County, WA'\n 'Plymouth County, MA' 'Santa Cruz County, CA' 'Tulsa County, OK'\n 'Montgomery County, TX' 'Norfolk County, MA' 'Montgomery County, PA'\n 'Fairfax County, VA' 'Rockingham County, NH' 'Washington, D.C.'\n 'Berkshire County, MA' 'Davidson County, TN' 'Douglas County, OR'\n 'Fresno County, CA' 'Harford County, MD' 'Hendricks County, IN'\n 'Hudson County, NJ' 'Johnson County, KS' 'Kittitas County, WA'\n 'Manatee County, FL' 'Marion County, OR' 'Okaloosa County, FL'\n 'Polk County, GA' 'Riverside County, CA' 'Shelby County, TN'\n 'Spokane County, WA' 'St. Louis County, MO' 'Suffolk County, NY'\n 'Ulster County, NY' 'Unassigned Location, VT' 'Unknown Location, MA'\n 'Volusia County, FL' 'Johnson County, IA' 'Harrison County, KY'\n 'Bennington County, VT' 'Carver County, MN' 'Charlotte County, FL'\n 'Cherokee County, GA' 'Collin County, TX' 'Jefferson County, KY'\n 'Jefferson Parish, LA' 'Shasta County, CA' 'Spartanburg County, SC'\n 'New York' 'Massachusetts' 'Diamond Princess' 'Grand Princess' 'Georgia'\n 'Colorado' 'Florida' 'New Jersey' 'Oregon' 'Texas' 'Pennsylvania' 'Iowa'\n 'Maryland' 'North Carolina' 'South Carolina' 'Tennessee' 'Virginia'\n 'Indiana' 'Kentucky' 'District of Columbia' 'Nevada' 'New Hampshire'\n 'Minnesota' 'Nebraska' 'Ohio' 'Rhode Island' 'Wisconsin' 'Connecticut'\n 'Hawaii' 'Oklahoma' 'Utah' 'Kansas' 'Louisiana' 'Missouri' 'Vermont'\n 'Alaska' 'Arkansas' 'Delaware' 'Idaho' 'Maine' 'Michigan' 'Mississippi'\n 'Montana' 'New Mexico' 'North Dakota' 'South Dakota' 'West Virginia'\n 'Wyoming' 'Alabama' 'Puerto Rico' 'Virgin Islands, U.S.' 'Guam'\n 'Virgin Islands' 'United States Virgin Islands' 'US' 'Wuhan Evacuee'\n 'American Samoa' 'Northern Mariana Islands' 'Recovered']\n(1085, 8)\n      Country_Region Province_State    Admin2          Last_Update  Confirmed  \\\n204               US     California       NaN        1/26/20 16:00        2.0   \n251               US     California       NaN        1/27/20 23:59        2.0   \n302               US     California       NaN        1/28/20 23:00        2.0   \n354               US     California       NaN        1/29/20 19:30        2.0   \n409               US     California       NaN        1/30/20 16:00        2.0   \n...              ...            ...       ...                  ...        ...   \n50679             US     California    Tulare  2020-04-04 23:34:21       81.0   \n50682             US     California  Tuolumne  2020-04-04 23:34:21        2.0   \n50764             US     California   Ventura  2020-04-04 23:34:21      203.0   \n50954             US     California      Yolo  2020-04-04 23:34:21       37.0   \n50961             US     California      Yuba  2020-04-04 23:34:21        9.0   \n\n       Deaths  Recovered Last_Update_date  \n204       NaN        NaN          1/26/20  \n251       NaN        NaN          1/27/20  \n302       NaN        NaN          1/28/20  \n354       NaN        NaN          1/29/20  \n409       NaN        NaN          1/30/20  \n...       ...        ...              ...  \n50679     3.0        0.0       2020-04-04  \n50682     0.0        0.0       2020-04-04  \n50764     6.0        0.0       2020-04-04  \n50954     1.0        0.0       2020-04-04  \n50961     0.0        0.0       2020-04-04  \n\n[1085 rows x 8 columns]\n"
    }
   ],
   "source": [
    "country = 'US'\n",
    "state = ['California','CA']\n",
    "state = '|'.join(str(x) for x in state)\n",
    "print(f'Joint state: {state}')\n",
    "\n",
    "print(combine_subset[(combine_subset['Country_Region']=='US')]['Province_State'].unique())\n",
    "print(combine_subset[(combine_subset['Province_State'].str.contains(state, na=False))].shape)\n",
    "print(combine_subset[(combine_subset['Province_State'].str.contains(state, na=False))])\n",
    "\n",
    "\n",
    ""
   ]
  },
  {
   "cell_type": "code",
   "execution_count": 10,
   "metadata": {},
   "outputs": [
    {
     "output_type": "execute_result",
     "data": {
      "text/plain": "                 Country_Region Province_State Admin2    Last_Update  \\\n                            sum            sum    sum            sum   \nLast_Update_date                                                       \n1/26/20                      US     California      0  1/26/20 16:00   \n1/27/20                      US     California      0  1/27/20 23:59   \n1/28/20                      US     California      0  1/28/20 23:00   \n1/29/20                      US     California      0  1/29/20 19:30   \n1/30/20                      US     California      0  1/30/20 16:00   \n\n                 Confirmed Deaths Recovered  \n                       sum    sum       sum  \nLast_Update_date                             \n1/26/20                2.0    0.0       0.0  \n1/27/20                2.0    0.0       0.0  \n1/28/20                2.0    0.0       0.0  \n1/29/20                2.0    0.0       0.0  \n1/30/20                2.0    0.0       0.0  ",
      "text/html": "<div>\n<style scoped>\n    .dataframe tbody tr th:only-of-type {\n        vertical-align: middle;\n    }\n\n    .dataframe tbody tr th {\n        vertical-align: top;\n    }\n\n    .dataframe thead tr th {\n        text-align: left;\n    }\n\n    .dataframe thead tr:last-of-type th {\n        text-align: right;\n    }\n</style>\n<table border=\"1\" class=\"dataframe\">\n  <thead>\n    <tr>\n      <th></th>\n      <th>Country_Region</th>\n      <th>Province_State</th>\n      <th>Admin2</th>\n      <th>Last_Update</th>\n      <th>Confirmed</th>\n      <th>Deaths</th>\n      <th>Recovered</th>\n    </tr>\n    <tr>\n      <th></th>\n      <th>sum</th>\n      <th>sum</th>\n      <th>sum</th>\n      <th>sum</th>\n      <th>sum</th>\n      <th>sum</th>\n      <th>sum</th>\n    </tr>\n    <tr>\n      <th>Last_Update_date</th>\n      <th></th>\n      <th></th>\n      <th></th>\n      <th></th>\n      <th></th>\n      <th></th>\n      <th></th>\n    </tr>\n  </thead>\n  <tbody>\n    <tr>\n      <th>1/26/20</th>\n      <td>US</td>\n      <td>California</td>\n      <td>0</td>\n      <td>1/26/20 16:00</td>\n      <td>2.0</td>\n      <td>0.0</td>\n      <td>0.0</td>\n    </tr>\n    <tr>\n      <th>1/27/20</th>\n      <td>US</td>\n      <td>California</td>\n      <td>0</td>\n      <td>1/27/20 23:59</td>\n      <td>2.0</td>\n      <td>0.0</td>\n      <td>0.0</td>\n    </tr>\n    <tr>\n      <th>1/28/20</th>\n      <td>US</td>\n      <td>California</td>\n      <td>0</td>\n      <td>1/28/20 23:00</td>\n      <td>2.0</td>\n      <td>0.0</td>\n      <td>0.0</td>\n    </tr>\n    <tr>\n      <th>1/29/20</th>\n      <td>US</td>\n      <td>California</td>\n      <td>0</td>\n      <td>1/29/20 19:30</td>\n      <td>2.0</td>\n      <td>0.0</td>\n      <td>0.0</td>\n    </tr>\n    <tr>\n      <th>1/30/20</th>\n      <td>US</td>\n      <td>California</td>\n      <td>0</td>\n      <td>1/30/20 16:00</td>\n      <td>2.0</td>\n      <td>0.0</td>\n      <td>0.0</td>\n    </tr>\n  </tbody>\n</table>\n</div>"
     },
     "metadata": {},
     "execution_count": 10
    }
   ],
   "source": [
    "combine_CA = combine_subset[(combine_subset['Province_State'].str.contains(state, na=False))]\n",
    "\n",
    "combine_CA.groupby(['Last_Update_date']).agg([np.sum]).head()"
   ]
  },
  {
   "cell_type": "markdown",
   "metadata": {},
   "source": [
    "### Read US census data by county and format"
   ]
  },
  {
   "cell_type": "code",
   "execution_count": 11,
   "metadata": {},
   "outputs": [
    {
     "output_type": "stream",
     "name": "stdout",
     "text": "County sensus file shape:(3193, 164)\n"
    },
    {
     "output_type": "execute_result",
     "data": {
      "text/plain": "   SUMLEV  REGION  DIVISION  STATE  COUNTY STNAME         CTYNAME  \\\n0      40       3         6      1       0     AL         Alabama   \n1      50       3         6      1       1     AL  Autauga County   \n2      50       3         6      1       3     AL  Baldwin County   \n3      50       3         6      1       5     AL  Barbour County   \n4      50       3         6      1       7     AL     Bibb County   \n\n   CENSUS2010POP  ESTIMATESBASE2010  POPESTIMATE2010  ...  RDOMESTICMIG2019  \\\n0        4779736            4780125          4785437  ...          1.917501   \n1          54571              54597            54773  ...          4.847310   \n2         182265             182265           183112  ...         24.017829   \n3          27457              27455            27327  ...         -5.690302   \n4          22915              22915            22870  ...          1.385134   \n\n   RNETMIG2011  RNETMIG2012  RNETMIG2013  RNETMIG2014  RNETMIG2015  \\\n0     0.578434     1.186314     1.522549     0.563489     0.626357   \n1     6.018182    -6.226119    -3.902226     1.970443    -1.712875   \n2    16.641870    17.488579    22.751474    20.184334    17.725964   \n3     0.292676    -6.897817    -8.132185    -5.140431   -15.724575   \n4    -4.998356    -3.787545    -5.797999     1.331144     1.329817   \n\n   RNETMIG2016  RNETMIG2017  RNETMIG2018  RNETMIG2019  \n0     0.745172     1.090366     1.773786     2.483744  \n1     4.777171     0.849656     0.540916     4.560062  \n2    21.279291    22.398256    24.727215    24.380567  \n3   -18.238016   -24.998528    -8.754922    -5.165664  \n4    -0.708717    -3.234669    -6.857092     1.831952  \n\n[5 rows x 164 columns]",
      "text/html": "<div>\n<style scoped>\n    .dataframe tbody tr th:only-of-type {\n        vertical-align: middle;\n    }\n\n    .dataframe tbody tr th {\n        vertical-align: top;\n    }\n\n    .dataframe thead th {\n        text-align: right;\n    }\n</style>\n<table border=\"1\" class=\"dataframe\">\n  <thead>\n    <tr style=\"text-align: right;\">\n      <th></th>\n      <th>SUMLEV</th>\n      <th>REGION</th>\n      <th>DIVISION</th>\n      <th>STATE</th>\n      <th>COUNTY</th>\n      <th>STNAME</th>\n      <th>CTYNAME</th>\n      <th>CENSUS2010POP</th>\n      <th>ESTIMATESBASE2010</th>\n      <th>POPESTIMATE2010</th>\n      <th>...</th>\n      <th>RDOMESTICMIG2019</th>\n      <th>RNETMIG2011</th>\n      <th>RNETMIG2012</th>\n      <th>RNETMIG2013</th>\n      <th>RNETMIG2014</th>\n      <th>RNETMIG2015</th>\n      <th>RNETMIG2016</th>\n      <th>RNETMIG2017</th>\n      <th>RNETMIG2018</th>\n      <th>RNETMIG2019</th>\n    </tr>\n  </thead>\n  <tbody>\n    <tr>\n      <th>0</th>\n      <td>40</td>\n      <td>3</td>\n      <td>6</td>\n      <td>1</td>\n      <td>0</td>\n      <td>AL</td>\n      <td>Alabama</td>\n      <td>4779736</td>\n      <td>4780125</td>\n      <td>4785437</td>\n      <td>...</td>\n      <td>1.917501</td>\n      <td>0.578434</td>\n      <td>1.186314</td>\n      <td>1.522549</td>\n      <td>0.563489</td>\n      <td>0.626357</td>\n      <td>0.745172</td>\n      <td>1.090366</td>\n      <td>1.773786</td>\n      <td>2.483744</td>\n    </tr>\n    <tr>\n      <th>1</th>\n      <td>50</td>\n      <td>3</td>\n      <td>6</td>\n      <td>1</td>\n      <td>1</td>\n      <td>AL</td>\n      <td>Autauga County</td>\n      <td>54571</td>\n      <td>54597</td>\n      <td>54773</td>\n      <td>...</td>\n      <td>4.847310</td>\n      <td>6.018182</td>\n      <td>-6.226119</td>\n      <td>-3.902226</td>\n      <td>1.970443</td>\n      <td>-1.712875</td>\n      <td>4.777171</td>\n      <td>0.849656</td>\n      <td>0.540916</td>\n      <td>4.560062</td>\n    </tr>\n    <tr>\n      <th>2</th>\n      <td>50</td>\n      <td>3</td>\n      <td>6</td>\n      <td>1</td>\n      <td>3</td>\n      <td>AL</td>\n      <td>Baldwin County</td>\n      <td>182265</td>\n      <td>182265</td>\n      <td>183112</td>\n      <td>...</td>\n      <td>24.017829</td>\n      <td>16.641870</td>\n      <td>17.488579</td>\n      <td>22.751474</td>\n      <td>20.184334</td>\n      <td>17.725964</td>\n      <td>21.279291</td>\n      <td>22.398256</td>\n      <td>24.727215</td>\n      <td>24.380567</td>\n    </tr>\n    <tr>\n      <th>3</th>\n      <td>50</td>\n      <td>3</td>\n      <td>6</td>\n      <td>1</td>\n      <td>5</td>\n      <td>AL</td>\n      <td>Barbour County</td>\n      <td>27457</td>\n      <td>27455</td>\n      <td>27327</td>\n      <td>...</td>\n      <td>-5.690302</td>\n      <td>0.292676</td>\n      <td>-6.897817</td>\n      <td>-8.132185</td>\n      <td>-5.140431</td>\n      <td>-15.724575</td>\n      <td>-18.238016</td>\n      <td>-24.998528</td>\n      <td>-8.754922</td>\n      <td>-5.165664</td>\n    </tr>\n    <tr>\n      <th>4</th>\n      <td>50</td>\n      <td>3</td>\n      <td>6</td>\n      <td>1</td>\n      <td>7</td>\n      <td>AL</td>\n      <td>Bibb County</td>\n      <td>22915</td>\n      <td>22915</td>\n      <td>22870</td>\n      <td>...</td>\n      <td>1.385134</td>\n      <td>-4.998356</td>\n      <td>-3.787545</td>\n      <td>-5.797999</td>\n      <td>1.331144</td>\n      <td>1.329817</td>\n      <td>-0.708717</td>\n      <td>-3.234669</td>\n      <td>-6.857092</td>\n      <td>1.831952</td>\n    </tr>\n  </tbody>\n</table>\n<p>5 rows × 164 columns</p>\n</div>"
     },
     "metadata": {},
     "execution_count": 11
    }
   ],
   "source": [
    "## read census data for county\n",
    "\n",
    "census_df = pd.read_csv(file_census_county, encoding = \"ISO-8859-1\")\n",
    "print(f'County sensus file shape:{census_df.shape}')\n",
    "#print(census_df.head())\n",
    "\n",
    "## replace state names with abbreviations\n",
    "\n",
    "census_df = census_df.replace({'STNAME':us_state_abbrev})\n",
    "census_df.head()"
   ]
  },
  {
   "cell_type": "code",
   "execution_count": 12,
   "metadata": {},
   "outputs": [],
   "source": [
    "## State census subset (COUNTY == 0)\n",
    "\n",
    "state_census_df = census_df.loc[census_df['COUNTY']==0]"
   ]
  },
  {
   "cell_type": "code",
   "execution_count": 15,
   "metadata": {},
   "outputs": [
    {
     "output_type": "execute_result",
     "data": {
      "text/plain": "   STATE  COUNTY STNAME         CTYNAME  POPESTIMATE2019      Province_State\n0      1       0     AL         Alabama          4903185         Alabama, AL\n1      1       1     AL  Autauga County            55869  Autauga County, AL\n2      1       3     AL  Baldwin County           223234  Baldwin County, AL\n3      1       5     AL  Barbour County            24686  Barbour County, AL\n4      1       7     AL     Bibb County            22394     Bibb County, AL",
      "text/html": "<div>\n<style scoped>\n    .dataframe tbody tr th:only-of-type {\n        vertical-align: middle;\n    }\n\n    .dataframe tbody tr th {\n        vertical-align: top;\n    }\n\n    .dataframe thead th {\n        text-align: right;\n    }\n</style>\n<table border=\"1\" class=\"dataframe\">\n  <thead>\n    <tr style=\"text-align: right;\">\n      <th></th>\n      <th>STATE</th>\n      <th>COUNTY</th>\n      <th>STNAME</th>\n      <th>CTYNAME</th>\n      <th>POPESTIMATE2019</th>\n      <th>Province_State</th>\n    </tr>\n  </thead>\n  <tbody>\n    <tr>\n      <th>0</th>\n      <td>1</td>\n      <td>0</td>\n      <td>AL</td>\n      <td>Alabama</td>\n      <td>4903185</td>\n      <td>Alabama, AL</td>\n    </tr>\n    <tr>\n      <th>1</th>\n      <td>1</td>\n      <td>1</td>\n      <td>AL</td>\n      <td>Autauga County</td>\n      <td>55869</td>\n      <td>Autauga County, AL</td>\n    </tr>\n    <tr>\n      <th>2</th>\n      <td>1</td>\n      <td>3</td>\n      <td>AL</td>\n      <td>Baldwin County</td>\n      <td>223234</td>\n      <td>Baldwin County, AL</td>\n    </tr>\n    <tr>\n      <th>3</th>\n      <td>1</td>\n      <td>5</td>\n      <td>AL</td>\n      <td>Barbour County</td>\n      <td>24686</td>\n      <td>Barbour County, AL</td>\n    </tr>\n    <tr>\n      <th>4</th>\n      <td>1</td>\n      <td>7</td>\n      <td>AL</td>\n      <td>Bibb County</td>\n      <td>22394</td>\n      <td>Bibb County, AL</td>\n    </tr>\n  </tbody>\n</table>\n</div>"
     },
     "metadata": {},
     "execution_count": 15
    }
   ],
   "source": [
    "## select census column for popolation estimate by for all counties and states\n",
    "census_columns = ['STATE','COUNTY','STNAME','CTYNAME','POPESTIMATE2019']\n",
    "\n",
    "census_select_df = census_df[census_columns]\n",
    "census_select_df['Province_State'] = [y+', '+x for x,y in zip(census_df['STNAME'],census_df['CTYNAME'])]\n",
    "\n",
    "census_select_df.head()"
   ]
  },
  {
   "cell_type": "markdown",
   "metadata": {},
   "source": [
    "#### Merge infection and death rate by the county population\n",
    "- Date 2020-04-04"
   ]
  },
  {
   "cell_type": "code",
   "execution_count": 16,
   "metadata": {},
   "outputs": [
    {
     "output_type": "execute_result",
     "data": {
      "text/plain": "       Active      Admin2                   Combined_Key  Confirmed  \\\n48552     0.0   Abbeville  Abbeville, South Carolina, US        6.0   \n48553     0.0      Acadia          Acadia, Louisiana, US       65.0   \n48554     0.0    Accomack         Accomack, Virginia, US        8.0   \n48555     0.0         Ada                 Ada, Idaho, US      360.0   \n48556     0.0       Adair                Adair, Iowa, US        1.0   \n...       ...         ...                            ...        ...   \n51226   150.0         NaN                        Vietnam      240.0   \n51227   195.0         NaN             West Bank and Gaza      217.0   \n51228    36.0         NaN                         Zambia       39.0   \n51229     8.0         NaN                       Zimbabwe        9.0   \n51230     0.0  unassigned        unassigned, Wyoming, US        0.0   \n\n           Country_Region  Deaths     FIPS          Last_Update        Lat  \\\n48552                  US     0.0  45001.0  2020-04-04 23:34:21  34.223334   \n48553                  US     2.0  22001.0  2020-04-04 23:34:21  30.295065   \n48554                  US     0.0  51001.0  2020-04-04 23:34:21  37.767072   \n48555                  US     3.0  16001.0  2020-04-04 23:34:21  43.452658   \n48556                  US     0.0  19001.0  2020-04-04 23:34:21  41.330756   \n...                   ...     ...      ...                  ...        ...   \n51226             Vietnam     0.0      NaN  2020-04-04 23:34:04  14.058324   \n51227  West Bank and Gaza     1.0      NaN  2020-04-04 23:34:04  31.952200   \n51228              Zambia     1.0      NaN  2020-04-04 23:34:04 -13.133897   \n51229            Zimbabwe     1.0      NaN  2020-04-04 23:34:04 -19.015438   \n51230                  US     0.0      NaN  2020-04-04 23:34:21        NaN   \n\n            Long_  Province_State  Recovered Last_Update_date  \n48552  -82.461707  South Carolina        0.0       2020-04-04  \n48553  -92.414197       Louisiana        0.0       2020-04-04  \n48554  -75.632346        Virginia        0.0       2020-04-04  \n48555 -116.241552           Idaho        0.0       2020-04-04  \n48556  -94.471059            Iowa        0.0       2020-04-04  \n...           ...             ...        ...              ...  \n51226  108.277199             NaN       90.0       2020-04-04  \n51227   35.233200             NaN       21.0       2020-04-04  \n51228   27.849332             NaN        2.0       2020-04-04  \n51229   29.154857             NaN        0.0       2020-04-04  \n51230         NaN         Wyoming        0.0       2020-04-04  \n\n[2660 rows x 13 columns]",
      "text/html": "<div>\n<style scoped>\n    .dataframe tbody tr th:only-of-type {\n        vertical-align: middle;\n    }\n\n    .dataframe tbody tr th {\n        vertical-align: top;\n    }\n\n    .dataframe thead th {\n        text-align: right;\n    }\n</style>\n<table border=\"1\" class=\"dataframe\">\n  <thead>\n    <tr style=\"text-align: right;\">\n      <th></th>\n      <th>Active</th>\n      <th>Admin2</th>\n      <th>Combined_Key</th>\n      <th>Confirmed</th>\n      <th>Country_Region</th>\n      <th>Deaths</th>\n      <th>FIPS</th>\n      <th>Last_Update</th>\n      <th>Lat</th>\n      <th>Long_</th>\n      <th>Province_State</th>\n      <th>Recovered</th>\n      <th>Last_Update_date</th>\n    </tr>\n  </thead>\n  <tbody>\n    <tr>\n      <th>48552</th>\n      <td>0.0</td>\n      <td>Abbeville</td>\n      <td>Abbeville, South Carolina, US</td>\n      <td>6.0</td>\n      <td>US</td>\n      <td>0.0</td>\n      <td>45001.0</td>\n      <td>2020-04-04 23:34:21</td>\n      <td>34.223334</td>\n      <td>-82.461707</td>\n      <td>South Carolina</td>\n      <td>0.0</td>\n      <td>2020-04-04</td>\n    </tr>\n    <tr>\n      <th>48553</th>\n      <td>0.0</td>\n      <td>Acadia</td>\n      <td>Acadia, Louisiana, US</td>\n      <td>65.0</td>\n      <td>US</td>\n      <td>2.0</td>\n      <td>22001.0</td>\n      <td>2020-04-04 23:34:21</td>\n      <td>30.295065</td>\n      <td>-92.414197</td>\n      <td>Louisiana</td>\n      <td>0.0</td>\n      <td>2020-04-04</td>\n    </tr>\n    <tr>\n      <th>48554</th>\n      <td>0.0</td>\n      <td>Accomack</td>\n      <td>Accomack, Virginia, US</td>\n      <td>8.0</td>\n      <td>US</td>\n      <td>0.0</td>\n      <td>51001.0</td>\n      <td>2020-04-04 23:34:21</td>\n      <td>37.767072</td>\n      <td>-75.632346</td>\n      <td>Virginia</td>\n      <td>0.0</td>\n      <td>2020-04-04</td>\n    </tr>\n    <tr>\n      <th>48555</th>\n      <td>0.0</td>\n      <td>Ada</td>\n      <td>Ada, Idaho, US</td>\n      <td>360.0</td>\n      <td>US</td>\n      <td>3.0</td>\n      <td>16001.0</td>\n      <td>2020-04-04 23:34:21</td>\n      <td>43.452658</td>\n      <td>-116.241552</td>\n      <td>Idaho</td>\n      <td>0.0</td>\n      <td>2020-04-04</td>\n    </tr>\n    <tr>\n      <th>48556</th>\n      <td>0.0</td>\n      <td>Adair</td>\n      <td>Adair, Iowa, US</td>\n      <td>1.0</td>\n      <td>US</td>\n      <td>0.0</td>\n      <td>19001.0</td>\n      <td>2020-04-04 23:34:21</td>\n      <td>41.330756</td>\n      <td>-94.471059</td>\n      <td>Iowa</td>\n      <td>0.0</td>\n      <td>2020-04-04</td>\n    </tr>\n    <tr>\n      <th>48557</th>\n      <td>0.0</td>\n      <td>Adair</td>\n      <td>Adair, Kentucky, US</td>\n      <td>3.0</td>\n      <td>US</td>\n      <td>0.0</td>\n      <td>21001.0</td>\n      <td>2020-04-04 23:34:21</td>\n      <td>37.104598</td>\n      <td>-85.281297</td>\n      <td>Kentucky</td>\n      <td>0.0</td>\n      <td>2020-04-04</td>\n    </tr>\n    <tr>\n      <th>48558</th>\n      <td>0.0</td>\n      <td>Adair</td>\n      <td>Adair, Missouri, US</td>\n      <td>10.0</td>\n      <td>US</td>\n      <td>0.0</td>\n      <td>29001.0</td>\n      <td>2020-04-04 23:34:21</td>\n      <td>40.190586</td>\n      <td>-92.600782</td>\n      <td>Missouri</td>\n      <td>0.0</td>\n      <td>2020-04-04</td>\n    </tr>\n    <tr>\n      <th>48559</th>\n      <td>0.0</td>\n      <td>Adair</td>\n      <td>Adair, Oklahoma, US</td>\n      <td>14.0</td>\n      <td>US</td>\n      <td>0.0</td>\n      <td>40001.0</td>\n      <td>2020-04-04 23:34:21</td>\n      <td>35.884942</td>\n      <td>-94.658593</td>\n      <td>Oklahoma</td>\n      <td>0.0</td>\n      <td>2020-04-04</td>\n    </tr>\n    <tr>\n      <th>48560</th>\n      <td>0.0</td>\n      <td>Adams</td>\n      <td>Adams, Colorado, US</td>\n      <td>294.0</td>\n      <td>US</td>\n      <td>9.0</td>\n      <td>8001.0</td>\n      <td>2020-04-04 23:34:21</td>\n      <td>39.874321</td>\n      <td>-104.336258</td>\n      <td>Colorado</td>\n      <td>0.0</td>\n      <td>2020-04-04</td>\n    </tr>\n    <tr>\n      <th>48561</th>\n      <td>0.0</td>\n      <td>Adams</td>\n      <td>Adams, Idaho, US</td>\n      <td>1.0</td>\n      <td>US</td>\n      <td>0.0</td>\n      <td>16003.0</td>\n      <td>2020-04-04 23:34:21</td>\n      <td>44.893336</td>\n      <td>-116.454525</td>\n      <td>Idaho</td>\n      <td>0.0</td>\n      <td>2020-04-04</td>\n    </tr>\n    <tr>\n      <th>48562</th>\n      <td>0.0</td>\n      <td>Adams</td>\n      <td>Adams, Illinois, US</td>\n      <td>3.0</td>\n      <td>US</td>\n      <td>0.0</td>\n      <td>17001.0</td>\n      <td>2020-04-04 23:34:21</td>\n      <td>39.988156</td>\n      <td>-91.187868</td>\n      <td>Illinois</td>\n      <td>0.0</td>\n      <td>2020-04-04</td>\n    </tr>\n    <tr>\n      <th>48563</th>\n      <td>0.0</td>\n      <td>Adams</td>\n      <td>Adams, Indiana, US</td>\n      <td>2.0</td>\n      <td>US</td>\n      <td>0.0</td>\n      <td>18001.0</td>\n      <td>2020-04-04 23:34:21</td>\n      <td>40.745765</td>\n      <td>-84.936714</td>\n      <td>Indiana</td>\n      <td>0.0</td>\n      <td>2020-04-04</td>\n    </tr>\n    <tr>\n      <th>48564</th>\n      <td>0.0</td>\n      <td>Adams</td>\n      <td>Adams, Mississippi, US</td>\n      <td>16.0</td>\n      <td>US</td>\n      <td>0.0</td>\n      <td>28001.0</td>\n      <td>2020-04-04 23:34:21</td>\n      <td>31.476698</td>\n      <td>-91.353260</td>\n      <td>Mississippi</td>\n      <td>0.0</td>\n      <td>2020-04-04</td>\n    </tr>\n    <tr>\n      <th>48565</th>\n      <td>0.0</td>\n      <td>Adams</td>\n      <td>Adams, Nebraska, US</td>\n      <td>8.0</td>\n      <td>US</td>\n      <td>0.0</td>\n      <td>31001.0</td>\n      <td>2020-04-04 23:34:21</td>\n      <td>40.524494</td>\n      <td>-98.501178</td>\n      <td>Nebraska</td>\n      <td>0.0</td>\n      <td>2020-04-04</td>\n    </tr>\n    <tr>\n      <th>48566</th>\n      <td>0.0</td>\n      <td>Adams</td>\n      <td>Adams,Ohio,US</td>\n      <td>1.0</td>\n      <td>US</td>\n      <td>0.0</td>\n      <td>39001.0</td>\n      <td>2020-04-04 23:34:21</td>\n      <td>38.845411</td>\n      <td>-83.471896</td>\n      <td>Ohio</td>\n      <td>0.0</td>\n      <td>2020-04-04</td>\n    </tr>\n    <tr>\n      <th>48567</th>\n      <td>0.0</td>\n      <td>Adams</td>\n      <td>Adams, Pennsylvania, US</td>\n      <td>21.0</td>\n      <td>US</td>\n      <td>0.0</td>\n      <td>42001.0</td>\n      <td>2020-04-04 23:34:21</td>\n      <td>39.871404</td>\n      <td>-77.216103</td>\n      <td>Pennsylvania</td>\n      <td>0.0</td>\n      <td>2020-04-04</td>\n    </tr>\n    <tr>\n      <th>48568</th>\n      <td>0.0</td>\n      <td>Adams</td>\n      <td>Adams, Washington, US</td>\n      <td>20.0</td>\n      <td>US</td>\n      <td>0.0</td>\n      <td>53001.0</td>\n      <td>2020-04-04 23:34:21</td>\n      <td>46.982998</td>\n      <td>-118.560173</td>\n      <td>Washington</td>\n      <td>0.0</td>\n      <td>2020-04-04</td>\n    </tr>\n    <tr>\n      <th>48569</th>\n      <td>0.0</td>\n      <td>Adams</td>\n      <td>Adams, Wisconsin, US</td>\n      <td>1.0</td>\n      <td>US</td>\n      <td>0.0</td>\n      <td>55001.0</td>\n      <td>2020-04-04 23:34:21</td>\n      <td>43.969747</td>\n      <td>-89.767828</td>\n      <td>Wisconsin</td>\n      <td>0.0</td>\n      <td>2020-04-04</td>\n    </tr>\n    <tr>\n      <th>48570</th>\n      <td>0.0</td>\n      <td>Addison</td>\n      <td>Addison, Vermont, US</td>\n      <td>34.0</td>\n      <td>US</td>\n      <td>0.0</td>\n      <td>50001.0</td>\n      <td>2020-04-04 23:34:21</td>\n      <td>44.032173</td>\n      <td>-73.141309</td>\n      <td>Vermont</td>\n      <td>0.0</td>\n      <td>2020-04-04</td>\n    </tr>\n    <tr>\n      <th>48571</th>\n      <td>0.0</td>\n      <td>Aiken</td>\n      <td>Aiken, South Carolina, US</td>\n      <td>24.0</td>\n      <td>US</td>\n      <td>1.0</td>\n      <td>45003.0</td>\n      <td>2020-04-04 23:34:21</td>\n      <td>33.543380</td>\n      <td>-81.636454</td>\n      <td>South Carolina</td>\n      <td>0.0</td>\n      <td>2020-04-04</td>\n    </tr>\n    <tr>\n      <th>48572</th>\n      <td>0.0</td>\n      <td>Alachua</td>\n      <td>Alachua, Florida, US</td>\n      <td>116.0</td>\n      <td>US</td>\n      <td>0.0</td>\n      <td>12001.0</td>\n      <td>2020-04-04 23:34:21</td>\n      <td>29.678665</td>\n      <td>-82.359282</td>\n      <td>Florida</td>\n      <td>0.0</td>\n      <td>2020-04-04</td>\n    </tr>\n    <tr>\n      <th>48573</th>\n      <td>0.0</td>\n      <td>Alamance</td>\n      <td>Alamance, North Carolina, US</td>\n      <td>16.0</td>\n      <td>US</td>\n      <td>0.0</td>\n      <td>37001.0</td>\n      <td>2020-04-04 23:34:21</td>\n      <td>36.043470</td>\n      <td>-79.399761</td>\n      <td>North Carolina</td>\n      <td>0.0</td>\n      <td>2020-04-04</td>\n    </tr>\n    <tr>\n      <th>48574</th>\n      <td>0.0</td>\n      <td>Alameda</td>\n      <td>Alameda, California, US</td>\n      <td>443.0</td>\n      <td>US</td>\n      <td>12.0</td>\n      <td>6001.0</td>\n      <td>2020-04-04 23:34:21</td>\n      <td>37.646294</td>\n      <td>-121.892927</td>\n      <td>California</td>\n      <td>0.0</td>\n      <td>2020-04-04</td>\n    </tr>\n    <tr>\n      <th>48575</th>\n      <td>0.0</td>\n      <td>Alamosa</td>\n      <td>Alamosa, Colorado, US</td>\n      <td>4.0</td>\n      <td>US</td>\n      <td>0.0</td>\n      <td>8003.0</td>\n      <td>2020-04-04 23:34:21</td>\n      <td>37.572506</td>\n      <td>-105.788545</td>\n      <td>Colorado</td>\n      <td>0.0</td>\n      <td>2020-04-04</td>\n    </tr>\n    <tr>\n      <th>48576</th>\n      <td>0.0</td>\n      <td>Albany</td>\n      <td>Albany, New York, US</td>\n      <td>293.0</td>\n      <td>US</td>\n      <td>6.0</td>\n      <td>36001.0</td>\n      <td>2020-04-04 23:34:21</td>\n      <td>42.600603</td>\n      <td>-73.977239</td>\n      <td>New York</td>\n      <td>0.0</td>\n      <td>2020-04-04</td>\n    </tr>\n    <tr>\n      <th>48577</th>\n      <td>0.0</td>\n      <td>Albany</td>\n      <td>Albany, Wyoming, US</td>\n      <td>4.0</td>\n      <td>US</td>\n      <td>0.0</td>\n      <td>56001.0</td>\n      <td>2020-04-04 23:34:21</td>\n      <td>41.654987</td>\n      <td>-105.723541</td>\n      <td>Wyoming</td>\n      <td>0.0</td>\n      <td>2020-04-04</td>\n    </tr>\n    <tr>\n      <th>48578</th>\n      <td>0.0</td>\n      <td>Albemarle</td>\n      <td>Albemarle, Virginia, US</td>\n      <td>27.0</td>\n      <td>US</td>\n      <td>0.0</td>\n      <td>51003.0</td>\n      <td>2020-04-04 23:34:21</td>\n      <td>38.020807</td>\n      <td>-78.554811</td>\n      <td>Virginia</td>\n      <td>0.0</td>\n      <td>2020-04-04</td>\n    </tr>\n    <tr>\n      <th>48579</th>\n      <td>0.0</td>\n      <td>Alcorn</td>\n      <td>Alcorn, Mississippi, US</td>\n      <td>6.0</td>\n      <td>US</td>\n      <td>0.0</td>\n      <td>28003.0</td>\n      <td>2020-04-04 23:34:21</td>\n      <td>34.880845</td>\n      <td>-88.579962</td>\n      <td>Mississippi</td>\n      <td>0.0</td>\n      <td>2020-04-04</td>\n    </tr>\n    <tr>\n      <th>48580</th>\n      <td>0.0</td>\n      <td>Alexander</td>\n      <td>Alexander, North Carolina, US</td>\n      <td>2.0</td>\n      <td>US</td>\n      <td>0.0</td>\n      <td>37003.0</td>\n      <td>2020-04-04 23:34:21</td>\n      <td>35.922380</td>\n      <td>-81.177519</td>\n      <td>North Carolina</td>\n      <td>0.0</td>\n      <td>2020-04-04</td>\n    </tr>\n    <tr>\n      <th>48581</th>\n      <td>0.0</td>\n      <td>Alexandria</td>\n      <td>Alexandria, Virginia, US</td>\n      <td>68.0</td>\n      <td>US</td>\n      <td>0.0</td>\n      <td>51510.0</td>\n      <td>2020-04-04 23:34:21</td>\n      <td>38.814003</td>\n      <td>-77.081831</td>\n      <td>Virginia</td>\n      <td>0.0</td>\n      <td>2020-04-04</td>\n    </tr>\n    <tr>\n      <th>...</th>\n      <td>...</td>\n      <td>...</td>\n      <td>...</td>\n      <td>...</td>\n      <td>...</td>\n      <td>...</td>\n      <td>...</td>\n      <td>...</td>\n      <td>...</td>\n      <td>...</td>\n      <td>...</td>\n      <td>...</td>\n      <td>...</td>\n    </tr>\n    <tr>\n      <th>51201</th>\n      <td>876.0</td>\n      <td>NaN</td>\n      <td>Slovenia</td>\n      <td>977.0</td>\n      <td>Slovenia</td>\n      <td>22.0</td>\n      <td>NaN</td>\n      <td>2020-04-04 23:34:04</td>\n      <td>46.151200</td>\n      <td>14.995500</td>\n      <td>NaN</td>\n      <td>79.0</td>\n      <td>2020-04-04</td>\n    </tr>\n    <tr>\n      <th>51202</th>\n      <td>6.0</td>\n      <td>NaN</td>\n      <td>Somalia</td>\n      <td>7.0</td>\n      <td>Somalia</td>\n      <td>0.0</td>\n      <td>NaN</td>\n      <td>2020-04-04 23:34:04</td>\n      <td>5.152149</td>\n      <td>46.199616</td>\n      <td>NaN</td>\n      <td>1.0</td>\n      <td>2020-04-04</td>\n    </tr>\n    <tr>\n      <th>51203</th>\n      <td>1481.0</td>\n      <td>NaN</td>\n      <td>South Africa</td>\n      <td>1585.0</td>\n      <td>South Africa</td>\n      <td>9.0</td>\n      <td>NaN</td>\n      <td>2020-04-04 23:34:04</td>\n      <td>-30.559500</td>\n      <td>22.937500</td>\n      <td>NaN</td>\n      <td>95.0</td>\n      <td>2020-04-04</td>\n    </tr>\n    <tr>\n      <th>51204</th>\n      <td>80002.0</td>\n      <td>NaN</td>\n      <td>Spain</td>\n      <td>126168.0</td>\n      <td>Spain</td>\n      <td>11947.0</td>\n      <td>NaN</td>\n      <td>2020-04-04 23:34:04</td>\n      <td>40.463667</td>\n      <td>-3.749220</td>\n      <td>NaN</td>\n      <td>34219.0</td>\n      <td>2020-04-04</td>\n    </tr>\n    <tr>\n      <th>51205</th>\n      <td>134.0</td>\n      <td>NaN</td>\n      <td>Sri Lanka</td>\n      <td>166.0</td>\n      <td>Sri Lanka</td>\n      <td>5.0</td>\n      <td>NaN</td>\n      <td>2020-04-04 23:34:04</td>\n      <td>7.873054</td>\n      <td>80.771797</td>\n      <td>NaN</td>\n      <td>27.0</td>\n      <td>2020-04-04</td>\n    </tr>\n    <tr>\n      <th>51206</th>\n      <td>6.0</td>\n      <td>NaN</td>\n      <td>Sudan</td>\n      <td>10.0</td>\n      <td>Sudan</td>\n      <td>2.0</td>\n      <td>NaN</td>\n      <td>2020-04-04 23:34:04</td>\n      <td>12.862800</td>\n      <td>30.217600</td>\n      <td>NaN</td>\n      <td>2.0</td>\n      <td>2020-04-04</td>\n    </tr>\n    <tr>\n      <th>51207</th>\n      <td>9.0</td>\n      <td>NaN</td>\n      <td>Suriname</td>\n      <td>10.0</td>\n      <td>Suriname</td>\n      <td>1.0</td>\n      <td>NaN</td>\n      <td>2020-04-04 23:34:04</td>\n      <td>3.919300</td>\n      <td>-56.027800</td>\n      <td>NaN</td>\n      <td>0.0</td>\n      <td>2020-04-04</td>\n    </tr>\n    <tr>\n      <th>51208</th>\n      <td>5865.0</td>\n      <td>NaN</td>\n      <td>Sweden</td>\n      <td>6443.0</td>\n      <td>Sweden</td>\n      <td>373.0</td>\n      <td>NaN</td>\n      <td>2020-04-04 23:34:04</td>\n      <td>60.128161</td>\n      <td>18.643501</td>\n      <td>NaN</td>\n      <td>205.0</td>\n      <td>2020-04-04</td>\n    </tr>\n    <tr>\n      <th>51209</th>\n      <td>13424.0</td>\n      <td>NaN</td>\n      <td>Switzerland</td>\n      <td>20505.0</td>\n      <td>Switzerland</td>\n      <td>666.0</td>\n      <td>NaN</td>\n      <td>2020-04-04 23:34:04</td>\n      <td>46.818200</td>\n      <td>8.227500</td>\n      <td>NaN</td>\n      <td>6415.0</td>\n      <td>2020-04-04</td>\n    </tr>\n    <tr>\n      <th>51210</th>\n      <td>12.0</td>\n      <td>NaN</td>\n      <td>Syria</td>\n      <td>16.0</td>\n      <td>Syria</td>\n      <td>2.0</td>\n      <td>NaN</td>\n      <td>2020-04-04 23:34:04</td>\n      <td>34.802075</td>\n      <td>38.996815</td>\n      <td>NaN</td>\n      <td>2.0</td>\n      <td>2020-04-04</td>\n    </tr>\n    <tr>\n      <th>51211</th>\n      <td>300.0</td>\n      <td>NaN</td>\n      <td>Taiwan*</td>\n      <td>355.0</td>\n      <td>Taiwan*</td>\n      <td>5.0</td>\n      <td>NaN</td>\n      <td>2020-04-04 11:36:49</td>\n      <td>23.700000</td>\n      <td>121.000000</td>\n      <td>NaN</td>\n      <td>50.0</td>\n      <td>2020-04-04</td>\n    </tr>\n    <tr>\n      <th>51212</th>\n      <td>16.0</td>\n      <td>NaN</td>\n      <td>Tanzania</td>\n      <td>20.0</td>\n      <td>Tanzania</td>\n      <td>1.0</td>\n      <td>NaN</td>\n      <td>2020-04-04 23:34:04</td>\n      <td>-6.369028</td>\n      <td>34.888822</td>\n      <td>NaN</td>\n      <td>3.0</td>\n      <td>2020-04-04</td>\n    </tr>\n    <tr>\n      <th>51213</th>\n      <td>1373.0</td>\n      <td>NaN</td>\n      <td>Thailand</td>\n      <td>2067.0</td>\n      <td>Thailand</td>\n      <td>20.0</td>\n      <td>NaN</td>\n      <td>2020-04-04 23:34:04</td>\n      <td>15.870032</td>\n      <td>100.992541</td>\n      <td>NaN</td>\n      <td>674.0</td>\n      <td>2020-04-04</td>\n    </tr>\n    <tr>\n      <th>51214</th>\n      <td>1.0</td>\n      <td>NaN</td>\n      <td>Timor-Leste</td>\n      <td>1.0</td>\n      <td>Timor-Leste</td>\n      <td>0.0</td>\n      <td>NaN</td>\n      <td>2020-04-04 23:34:04</td>\n      <td>-8.874217</td>\n      <td>125.727539</td>\n      <td>NaN</td>\n      <td>0.0</td>\n      <td>2020-04-04</td>\n    </tr>\n    <tr>\n      <th>51215</th>\n      <td>21.0</td>\n      <td>NaN</td>\n      <td>Togo</td>\n      <td>41.0</td>\n      <td>Togo</td>\n      <td>3.0</td>\n      <td>NaN</td>\n      <td>2020-04-04 23:34:04</td>\n      <td>8.619500</td>\n      <td>0.824800</td>\n      <td>NaN</td>\n      <td>17.0</td>\n      <td>2020-04-04</td>\n    </tr>\n    <tr>\n      <th>51216</th>\n      <td>96.0</td>\n      <td>NaN</td>\n      <td>Trinidad and Tobago</td>\n      <td>103.0</td>\n      <td>Trinidad and Tobago</td>\n      <td>6.0</td>\n      <td>NaN</td>\n      <td>2020-04-04 23:34:04</td>\n      <td>10.691800</td>\n      <td>-61.222500</td>\n      <td>NaN</td>\n      <td>1.0</td>\n      <td>2020-04-04</td>\n    </tr>\n    <tr>\n      <th>51217</th>\n      <td>530.0</td>\n      <td>NaN</td>\n      <td>Tunisia</td>\n      <td>553.0</td>\n      <td>Tunisia</td>\n      <td>18.0</td>\n      <td>NaN</td>\n      <td>2020-04-04 23:34:04</td>\n      <td>33.886917</td>\n      <td>9.537499</td>\n      <td>NaN</td>\n      <td>5.0</td>\n      <td>2020-04-04</td>\n    </tr>\n    <tr>\n      <th>51218</th>\n      <td>22647.0</td>\n      <td>NaN</td>\n      <td>Turkey</td>\n      <td>23934.0</td>\n      <td>Turkey</td>\n      <td>501.0</td>\n      <td>NaN</td>\n      <td>2020-04-04 23:34:04</td>\n      <td>38.963700</td>\n      <td>35.243300</td>\n      <td>NaN</td>\n      <td>786.0</td>\n      <td>2020-04-04</td>\n    </tr>\n    <tr>\n      <th>51219</th>\n      <td>48.0</td>\n      <td>NaN</td>\n      <td>Uganda</td>\n      <td>48.0</td>\n      <td>Uganda</td>\n      <td>0.0</td>\n      <td>NaN</td>\n      <td>2020-04-04 23:34:04</td>\n      <td>1.373333</td>\n      <td>32.290275</td>\n      <td>NaN</td>\n      <td>0.0</td>\n      <td>2020-04-04</td>\n    </tr>\n    <tr>\n      <th>51220</th>\n      <td>1168.0</td>\n      <td>NaN</td>\n      <td>Ukraine</td>\n      <td>1225.0</td>\n      <td>Ukraine</td>\n      <td>32.0</td>\n      <td>NaN</td>\n      <td>2020-04-04 23:34:04</td>\n      <td>48.379400</td>\n      <td>31.165600</td>\n      <td>NaN</td>\n      <td>25.0</td>\n      <td>2020-04-04</td>\n    </tr>\n    <tr>\n      <th>51221</th>\n      <td>1370.0</td>\n      <td>NaN</td>\n      <td>United Arab Emirates</td>\n      <td>1505.0</td>\n      <td>United Arab Emirates</td>\n      <td>10.0</td>\n      <td>NaN</td>\n      <td>2020-04-04 23:34:04</td>\n      <td>23.424076</td>\n      <td>53.847818</td>\n      <td>NaN</td>\n      <td>125.0</td>\n      <td>2020-04-04</td>\n    </tr>\n    <tr>\n      <th>51222</th>\n      <td>37455.0</td>\n      <td>NaN</td>\n      <td>United Kingdom</td>\n      <td>41903.0</td>\n      <td>United Kingdom</td>\n      <td>4313.0</td>\n      <td>NaN</td>\n      <td>2020-04-04 23:34:04</td>\n      <td>55.378100</td>\n      <td>-3.436000</td>\n      <td>NaN</td>\n      <td>135.0</td>\n      <td>2020-04-04</td>\n    </tr>\n    <tr>\n      <th>51223</th>\n      <td>302.0</td>\n      <td>NaN</td>\n      <td>Uruguay</td>\n      <td>400.0</td>\n      <td>Uruguay</td>\n      <td>5.0</td>\n      <td>NaN</td>\n      <td>2020-04-04 23:34:04</td>\n      <td>-32.522800</td>\n      <td>-55.765800</td>\n      <td>NaN</td>\n      <td>93.0</td>\n      <td>2020-04-04</td>\n    </tr>\n    <tr>\n      <th>51224</th>\n      <td>239.0</td>\n      <td>NaN</td>\n      <td>Uzbekistan</td>\n      <td>266.0</td>\n      <td>Uzbekistan</td>\n      <td>2.0</td>\n      <td>NaN</td>\n      <td>2020-04-04 23:34:04</td>\n      <td>41.377491</td>\n      <td>64.585262</td>\n      <td>NaN</td>\n      <td>25.0</td>\n      <td>2020-04-04</td>\n    </tr>\n    <tr>\n      <th>51225</th>\n      <td>96.0</td>\n      <td>NaN</td>\n      <td>Venezuela</td>\n      <td>155.0</td>\n      <td>Venezuela</td>\n      <td>7.0</td>\n      <td>NaN</td>\n      <td>2020-04-04 23:34:04</td>\n      <td>6.423800</td>\n      <td>-66.589700</td>\n      <td>NaN</td>\n      <td>52.0</td>\n      <td>2020-04-04</td>\n    </tr>\n    <tr>\n      <th>51226</th>\n      <td>150.0</td>\n      <td>NaN</td>\n      <td>Vietnam</td>\n      <td>240.0</td>\n      <td>Vietnam</td>\n      <td>0.0</td>\n      <td>NaN</td>\n      <td>2020-04-04 23:34:04</td>\n      <td>14.058324</td>\n      <td>108.277199</td>\n      <td>NaN</td>\n      <td>90.0</td>\n      <td>2020-04-04</td>\n    </tr>\n    <tr>\n      <th>51227</th>\n      <td>195.0</td>\n      <td>NaN</td>\n      <td>West Bank and Gaza</td>\n      <td>217.0</td>\n      <td>West Bank and Gaza</td>\n      <td>1.0</td>\n      <td>NaN</td>\n      <td>2020-04-04 23:34:04</td>\n      <td>31.952200</td>\n      <td>35.233200</td>\n      <td>NaN</td>\n      <td>21.0</td>\n      <td>2020-04-04</td>\n    </tr>\n    <tr>\n      <th>51228</th>\n      <td>36.0</td>\n      <td>NaN</td>\n      <td>Zambia</td>\n      <td>39.0</td>\n      <td>Zambia</td>\n      <td>1.0</td>\n      <td>NaN</td>\n      <td>2020-04-04 23:34:04</td>\n      <td>-13.133897</td>\n      <td>27.849332</td>\n      <td>NaN</td>\n      <td>2.0</td>\n      <td>2020-04-04</td>\n    </tr>\n    <tr>\n      <th>51229</th>\n      <td>8.0</td>\n      <td>NaN</td>\n      <td>Zimbabwe</td>\n      <td>9.0</td>\n      <td>Zimbabwe</td>\n      <td>1.0</td>\n      <td>NaN</td>\n      <td>2020-04-04 23:34:04</td>\n      <td>-19.015438</td>\n      <td>29.154857</td>\n      <td>NaN</td>\n      <td>0.0</td>\n      <td>2020-04-04</td>\n    </tr>\n    <tr>\n      <th>51230</th>\n      <td>0.0</td>\n      <td>unassigned</td>\n      <td>unassigned, Wyoming, US</td>\n      <td>0.0</td>\n      <td>US</td>\n      <td>0.0</td>\n      <td>NaN</td>\n      <td>2020-04-04 23:34:21</td>\n      <td>NaN</td>\n      <td>NaN</td>\n      <td>Wyoming</td>\n      <td>0.0</td>\n      <td>2020-04-04</td>\n    </tr>\n  </tbody>\n</table>\n<p>2660 rows × 13 columns</p>\n</div>"
     },
     "metadata": {},
     "execution_count": 16
    }
   ],
   "source": [
    "select_date = '2020-04-04'\n",
    "combine_selectdf.loc[combine_df['Last_Update'].str.contains(select_date, na=False)]"
   ]
  },
  {
   "cell_type": "code",
   "execution_count": null,
   "metadata": {},
   "outputs": [],
   "source": []
  }
 ]
}