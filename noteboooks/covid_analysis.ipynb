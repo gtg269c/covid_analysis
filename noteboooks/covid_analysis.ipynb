{
 "nbformat": 4,
 "nbformat_minor": 2,
 "metadata": {
  "language_info": {
   "name": "python",
   "codemirror_mode": {
    "name": "ipython",
    "version": 3
   },
   "version": "3.7.3-final"
  },
  "orig_nbformat": 2,
  "file_extension": ".py",
  "mimetype": "text/x-python",
  "name": "python",
  "npconvert_exporter": "python",
  "pygments_lexer": "ipython3",
  "version": 3,
  "kernelspec": {
   "name": "python37364bitdockercondaa5b4f2e7dbab413cac923ad1eb7c6587",
   "display_name": "Python 3.7.3 64-bit ('docker': conda)"
  }
 },
 "cells": [
  {
   "cell_type": "code",
   "execution_count": 1,
   "metadata": {},
   "outputs": [
    {
     "output_type": "stream",
     "name": "stdout",
     "text": "['D:\\\\ProgramData\\\\Anaconda3\\\\envs\\\\docker\\\\lib\\\\site-packages\\\\ipykernel_launcher.py', '-f', 'C:\\\\Users\\\\aminm\\\\AppData\\\\Roaming\\\\jupyter\\\\runtime\\\\kernel-ffeec40d-3254-4000-8af9-2c31581cfa1a.json']\n['D:\\\\ProgramData\\\\Anaconda3\\\\envs\\\\docker\\\\lib\\\\site-packages\\\\ipykernel_launcher.py', '-f', 'C:\\\\Users\\\\aminm\\\\AppData\\\\Roaming\\\\jupyter\\\\runtime\\\\kernel-ffeec40d-3254-4000-8af9-2c31581cfa1a.json']\n"
    },
    {
     "output_type": "execute_result",
     "data": {
      "text/plain": "<module 'covid_utils' from '../covid_analysis\\\\covid_utils.py'>"
     },
     "metadata": {},
     "execution_count": 1
    }
   ],
   "source": [
    "## libraries\n",
    "sys.path.append(\"../covid_analysis/\")\n",
    "import importlib\n",
    "import sys\n",
    "import os\n",
    "import numpy as np\n",
    "import pandas as pd \n",
    "import seaborn as sns\n",
    "import logging\n",
    "\n",
    "## custom libraries\n",
    "\n",
    "import covid_utils as cu\n",
    "importlib.reload(cu)\n",
    ""
   ]
  },
  {
   "cell_type": "code",
   "execution_count": 2,
   "metadata": {},
   "outputs": [],
   "source": [
    "# Add logging feature to capture daily changes\n",
    "logging.basicConfig(filename=\"covid_compile.log\",\n",
    "                    format='%(asctime)s %(message)s',\n",
    "                    filemode='a', level=logging.DEBUG)\n",
    "\n",
    "# Creating an object\n",
    "logger = logging.getLogger()"
   ]
  },
  {
   "cell_type": "code",
   "execution_count": 6,
   "metadata": {},
   "outputs": [],
   "source": [
    "## files and directories\n",
    "dir_input = '../COVID-19/csse_covid_19_data/csse_covid_19_daily_reports/'\n",
    "file_pattern = '*.csv'\n",
    "\n",
    "file_census_county = '../data/census2010_19/co-est2019-alldata.csv'\n",
    "\n",
    "## column names to rename\n",
    "# ref https://www.geeksforgeeks.org/how-to-rename-columns-in-pandas-dataframe/\n",
    "\n",
    "column_rename = {'Country/Region':'Country_Region', 'Province/State':'Province_State', 'Last Update':'Last_Update','Latitude':'Lat' , 'Longitude':'Long_'}\n",
    ""
   ]
  },
  {
   "cell_type": "code",
   "execution_count": 4,
   "metadata": {},
   "outputs": [
    {
     "output_type": "stream",
     "name": "stdout",
     "text": "Total daily reports: 73\n   Active Admin2 Combined_Key  Confirmed  Country_Region  Deaths  FIPS  \\\n0     NaN    NaN          NaN        1.0  Mainland China     NaN   NaN   \n1     NaN    NaN          NaN       14.0  Mainland China     NaN   NaN   \n2     NaN    NaN          NaN        6.0  Mainland China     NaN   NaN   \n3     NaN    NaN          NaN        1.0  Mainland China     NaN   NaN   \n4     NaN    NaN          NaN        NaN  Mainland China     NaN   NaN   \n\n       Last_Update  Lat  Long_ Province_State  Recovered  \n0  1/22/2020 17:00  NaN    NaN          Anhui        NaN  \n1  1/22/2020 17:00  NaN    NaN        Beijing        NaN  \n2  1/22/2020 17:00  NaN    NaN      Chongqing        NaN  \n3  1/22/2020 17:00  NaN    NaN         Fujian        NaN  \n4  1/22/2020 17:00  NaN    NaN          Gansu        NaN  \nIndex(['Active', 'Admin2', 'Combined_Key', 'Confirmed', 'Country_Region',\n       'Deaths', 'FIPS', 'Last_Update', 'Lat', 'Long_', 'Province_State',\n       'Recovered'],\n      dtype='object')\n                                                           Confirmed  Deaths\nCountry_Region Province_State Admin2  Last_Update                           \nUS             Alabama        Autauga 2020-03-23 23:19:34        0.0     0.0\n                                      2020-03-24 23:37:31        1.0     0.0\n                                      2020-03-25 23:33:19        4.0     0.0\n                                      2020-03-26 23:48:35        6.0     0.0\n                                      2020-03-27 22:14:55        6.0     0.0\n"
    }
   ],
   "source": [
    "# read daily reports\n",
    "\n",
    "combine_df = cu.read_daily_reports(dir_input, file_pattern, rename_col=column_rename)\n",
    "logger.info(f'Dim of combine df: {str(combine_df.shape)}')\n",
    "print(combine_df.head())\n",
    "print(combine_df.columns)\n",
    "\n",
    "list_group = ['Country_Region', 'Province_State','Admin2','Last_Update']\n",
    "list_display = ['Confirmed', 'Deaths']\n",
    "country_summ = cu.summarize_by_county(combine_df, list_group, list_display)\n",
    "print(country_summ.head())"
   ]
  },
  {
   "cell_type": "code",
   "execution_count": 5,
   "metadata": {},
   "outputs": [
    {
     "output_type": "execute_result",
     "data": {
      "text/plain": "   Active Admin2 Combined_Key  Confirmed  Country_Region  Deaths  FIPS  \\\n0     NaN    NaN          NaN        1.0  Mainland China     NaN   NaN   \n1     NaN    NaN          NaN       14.0  Mainland China     NaN   NaN   \n2     NaN    NaN          NaN        6.0  Mainland China     NaN   NaN   \n3     NaN    NaN          NaN        1.0  Mainland China     NaN   NaN   \n4     NaN    NaN          NaN        NaN  Mainland China     NaN   NaN   \n\n       Last_Update  Lat  Long_ Province_State  Recovered Last_Update_date  \n0  1/22/2020 17:00  NaN    NaN          Anhui        NaN        1/22/2020  \n1  1/22/2020 17:00  NaN    NaN        Beijing        NaN        1/22/2020  \n2  1/22/2020 17:00  NaN    NaN      Chongqing        NaN        1/22/2020  \n3  1/22/2020 17:00  NaN    NaN         Fujian        NaN        1/22/2020  \n4  1/22/2020 17:00  NaN    NaN          Gansu        NaN        1/22/2020  ",
      "text/html": "<div>\n<style scoped>\n    .dataframe tbody tr th:only-of-type {\n        vertical-align: middle;\n    }\n\n    .dataframe tbody tr th {\n        vertical-align: top;\n    }\n\n    .dataframe thead th {\n        text-align: right;\n    }\n</style>\n<table border=\"1\" class=\"dataframe\">\n  <thead>\n    <tr style=\"text-align: right;\">\n      <th></th>\n      <th>Active</th>\n      <th>Admin2</th>\n      <th>Combined_Key</th>\n      <th>Confirmed</th>\n      <th>Country_Region</th>\n      <th>Deaths</th>\n      <th>FIPS</th>\n      <th>Last_Update</th>\n      <th>Lat</th>\n      <th>Long_</th>\n      <th>Province_State</th>\n      <th>Recovered</th>\n      <th>Last_Update_date</th>\n    </tr>\n  </thead>\n  <tbody>\n    <tr>\n      <th>0</th>\n      <td>NaN</td>\n      <td>NaN</td>\n      <td>NaN</td>\n      <td>1.0</td>\n      <td>Mainland China</td>\n      <td>NaN</td>\n      <td>NaN</td>\n      <td>1/22/2020 17:00</td>\n      <td>NaN</td>\n      <td>NaN</td>\n      <td>Anhui</td>\n      <td>NaN</td>\n      <td>1/22/2020</td>\n    </tr>\n    <tr>\n      <th>1</th>\n      <td>NaN</td>\n      <td>NaN</td>\n      <td>NaN</td>\n      <td>14.0</td>\n      <td>Mainland China</td>\n      <td>NaN</td>\n      <td>NaN</td>\n      <td>1/22/2020 17:00</td>\n      <td>NaN</td>\n      <td>NaN</td>\n      <td>Beijing</td>\n      <td>NaN</td>\n      <td>1/22/2020</td>\n    </tr>\n    <tr>\n      <th>2</th>\n      <td>NaN</td>\n      <td>NaN</td>\n      <td>NaN</td>\n      <td>6.0</td>\n      <td>Mainland China</td>\n      <td>NaN</td>\n      <td>NaN</td>\n      <td>1/22/2020 17:00</td>\n      <td>NaN</td>\n      <td>NaN</td>\n      <td>Chongqing</td>\n      <td>NaN</td>\n      <td>1/22/2020</td>\n    </tr>\n    <tr>\n      <th>3</th>\n      <td>NaN</td>\n      <td>NaN</td>\n      <td>NaN</td>\n      <td>1.0</td>\n      <td>Mainland China</td>\n      <td>NaN</td>\n      <td>NaN</td>\n      <td>1/22/2020 17:00</td>\n      <td>NaN</td>\n      <td>NaN</td>\n      <td>Fujian</td>\n      <td>NaN</td>\n      <td>1/22/2020</td>\n    </tr>\n    <tr>\n      <th>4</th>\n      <td>NaN</td>\n      <td>NaN</td>\n      <td>NaN</td>\n      <td>NaN</td>\n      <td>Mainland China</td>\n      <td>NaN</td>\n      <td>NaN</td>\n      <td>1/22/2020 17:00</td>\n      <td>NaN</td>\n      <td>NaN</td>\n      <td>Gansu</td>\n      <td>NaN</td>\n      <td>1/22/2020</td>\n    </tr>\n  </tbody>\n</table>\n</div>"
     },
     "metadata": {},
     "execution_count": 5
    }
   ],
   "source": [
    "## Make update date column\n",
    "combine_df['Last_Update_date'] = [str(d).split(' ')[0] for d in combine_df['Last_Update']]\n",
    "combine_df.head()\n",
    ""
   ]
  },
  {
   "cell_type": "code",
   "execution_count": 8,
   "metadata": {},
   "outputs": [],
   "source": [
    "select_col = ['Country_Region',  'Province_State','Admin2','Last_Update', 'Confirmed', 'Deaths', 'Recovered', 'Last_Update_date']\n",
    "combine_subset = combine_df[select_col]"
   ]
  },
  {
   "cell_type": "code",
   "execution_count": 9,
   "metadata": {},
   "outputs": [
    {
     "output_type": "stream",
     "name": "stdout",
     "text": "Joint state: California|CA\n['Washington' 'Chicago' 'Illinois' 'California' 'Arizona' 'Chicago, IL'\n 'Boston, MA' 'Los Angeles, CA' 'Orange, CA' 'Santa Clara, CA'\n 'Seattle, WA' 'Tempe, AZ' 'San Benito, CA' 'Madison, WI'\n 'San Diego County, CA' 'San Antonio, TX' 'Ashland, NE' 'Travis, CA'\n 'Lackland, TX' 'Humboldt County, CA' 'Sacramento County, CA'\n 'Omaha, NE (From Diamond Princess)' 'Travis, CA (From Diamond Princess)'\n 'Lackland, TX (From Diamond Princess)'\n 'Unassigned Location (From Diamond Princess)' 'Portland, OR'\n 'Snohomish County, WA' 'Providence, RI' 'King County, WA'\n 'Cook County, IL' 'Grafton County, NH' 'Hillsborough, FL'\n 'New York City, NY' 'Placer County, CA' 'San Mateo, CA' 'Sarasota, FL'\n 'Sonoma County, CA' 'Umatilla, OR' 'Fulton County, GA'\n 'Washington County, OR' ' Norfolk County, MA' 'Berkeley, CA'\n 'Maricopa County, AZ' 'Wake County, NC' 'Westchester County, NY'\n 'Orange County, CA' 'Contra Costa County, CA' 'Bergen County, NJ'\n 'Harris County, TX' 'San Francisco County, CA' 'Clark County, NV'\n 'Fort Bend County, TX' 'Grant County, WA' 'Queens County, NY'\n 'Santa Rosa County, FL' 'Williamson County, TN' 'New York County, NY'\n 'Unassigned Location, WA' 'Montgomery County, MD' 'Suffolk County, MA'\n 'Denver County, CO' 'Summit County, CO' 'Chatham County, NC'\n 'Delaware County, PA' 'Douglas County, NE' 'Fayette County, KY'\n 'Floyd County, GA' 'Marion County, IN' 'Middlesex County, MA'\n 'Nassau County, NY' 'Norwell County, MA' 'Ramsey County, MN'\n 'Washoe County, NV' 'Wayne County, PA' 'Yolo County, CA'\n 'Santa Clara County, CA' 'Grand Princess Cruise Ship'\n 'Douglas County, CO' 'Providence County, RI' 'Alameda County, CA'\n 'Broward County, FL' 'Fairfield County, CT' 'Lee County, FL'\n 'Pinal County, AZ' 'Rockland County, NY' 'Saratoga County, NY'\n 'Charleston County, SC' 'Clark County, WA' 'Cobb County, GA'\n 'Davis County, UT' 'El Paso County, CO' 'Honolulu County, HI'\n 'Jackson County, OR ' 'Jefferson County, WA' 'Kershaw County, SC'\n 'Klamath County, OR' 'Madera County, CA' 'Pierce County, WA'\n 'Plymouth County, MA' 'Santa Cruz County, CA' 'Tulsa County, OK'\n 'Montgomery County, TX' 'Norfolk County, MA' 'Montgomery County, PA'\n 'Fairfax County, VA' 'Rockingham County, NH' 'Washington, D.C.'\n 'Berkshire County, MA' 'Davidson County, TN' 'Douglas County, OR'\n 'Fresno County, CA' 'Harford County, MD' 'Hendricks County, IN'\n 'Hudson County, NJ' 'Johnson County, KS' 'Kittitas County, WA'\n 'Manatee County, FL' 'Marion County, OR' 'Okaloosa County, FL'\n 'Polk County, GA' 'Riverside County, CA' 'Shelby County, TN'\n 'Spokane County, WA' 'St. Louis County, MO' 'Suffolk County, NY'\n 'Ulster County, NY' 'Unassigned Location, VT' 'Unknown Location, MA'\n 'Volusia County, FL' 'Johnson County, IA' 'Harrison County, KY'\n 'Bennington County, VT' 'Carver County, MN' 'Charlotte County, FL'\n 'Cherokee County, GA' 'Collin County, TX' 'Jefferson County, KY'\n 'Jefferson Parish, LA' 'Shasta County, CA' 'Spartanburg County, SC'\n 'New York' 'Massachusetts' 'Diamond Princess' 'Grand Princess' 'Georgia'\n 'Colorado' 'Florida' 'New Jersey' 'Oregon' 'Texas' 'Pennsylvania' 'Iowa'\n 'Maryland' 'North Carolina' 'South Carolina' 'Tennessee' 'Virginia'\n 'Indiana' 'Kentucky' 'District of Columbia' 'Nevada' 'New Hampshire'\n 'Minnesota' 'Nebraska' 'Ohio' 'Rhode Island' 'Wisconsin' 'Connecticut'\n 'Hawaii' 'Oklahoma' 'Utah' 'Kansas' 'Louisiana' 'Missouri' 'Vermont'\n 'Alaska' 'Arkansas' 'Delaware' 'Idaho' 'Maine' 'Michigan' 'Mississippi'\n 'Montana' 'New Mexico' 'North Dakota' 'South Dakota' 'West Virginia'\n 'Wyoming' 'Alabama' 'Puerto Rico' 'Virgin Islands, U.S.' 'Guam'\n 'Virgin Islands' 'United States Virgin Islands' 'US' 'Wuhan Evacuee'\n 'American Samoa' 'Northern Mariana Islands' 'Recovered']\n(1033, 8)\n      Country_Region Province_State      Admin2          Last_Update  \\\n204               US     California         NaN        1/26/20 16:00   \n251               US     California         NaN        1/27/20 23:59   \n302               US     California         NaN        1/28/20 23:00   \n354               US     California         NaN        1/29/20 19:30   \n409               US     California         NaN        1/30/20 16:00   \n...              ...            ...         ...                  ...   \n48004             US     California    Tuolumne  2020-04-03 22:46:37   \n48020             US     California  Unassigned  2020-04-03 22:46:37   \n48084             US     California     Ventura  2020-04-03 22:46:37   \n48276             US     California        Yolo  2020-04-03 22:46:37   \n48283             US     California        Yuba  2020-04-03 22:46:37   \n\n       Confirmed  Deaths  Recovered Last_Update_date  \n204          2.0     NaN        NaN          1/26/20  \n251          2.0     NaN        NaN          1/27/20  \n302          2.0     NaN        NaN          1/28/20  \n354          2.0     NaN        NaN          1/29/20  \n409          2.0     NaN        NaN          1/30/20  \n...          ...     ...        ...              ...  \n48004        2.0     0.0        0.0       2020-04-03  \n48020        0.0     2.0        0.0       2020-04-03  \n48084      177.0     6.0        0.0       2020-04-03  \n48276       33.0     1.0        0.0       2020-04-03  \n48283        8.0     0.0        0.0       2020-04-03  \n\n[1033 rows x 8 columns]\n"
    }
   ],
   "source": [
    "country = 'US'\n",
    "state = ['California','CA']\n",
    "state = '|'.join(str(x) for x in state)\n",
    "print(f'Joint state: {state}')\n",
    "\n",
    "print(combine_subset[(combine_subset['Country_Region']=='US')]['Province_State'].unique())\n",
    "print(combine_subset[(combine_subset['Province_State'].str.contains(state, na=False))].shape)\n",
    "print(combine_subset[(combine_subset['Province_State'].str.contains(state, na=False))])\n",
    "\n",
    "\n",
    ""
   ]
  },
  {
   "cell_type": "code",
   "execution_count": 10,
   "metadata": {},
   "outputs": [
    {
     "output_type": "execute_result",
     "data": {
      "text/plain": "                 Country_Region Province_State Admin2    Last_Update  \\\n                            sum            sum    sum            sum   \nLast_Update_date                                                       \n1/26/20                      US     California      0  1/26/20 16:00   \n1/27/20                      US     California      0  1/27/20 23:59   \n1/28/20                      US     California      0  1/28/20 23:00   \n1/29/20                      US     California      0  1/29/20 19:30   \n1/30/20                      US     California      0  1/30/20 16:00   \n\n                 Confirmed Deaths Recovered  \n                       sum    sum       sum  \nLast_Update_date                             \n1/26/20                2.0    0.0       0.0  \n1/27/20                2.0    0.0       0.0  \n1/28/20                2.0    0.0       0.0  \n1/29/20                2.0    0.0       0.0  \n1/30/20                2.0    0.0       0.0  ",
      "text/html": "<div>\n<style scoped>\n    .dataframe tbody tr th:only-of-type {\n        vertical-align: middle;\n    }\n\n    .dataframe tbody tr th {\n        vertical-align: top;\n    }\n\n    .dataframe thead tr th {\n        text-align: left;\n    }\n\n    .dataframe thead tr:last-of-type th {\n        text-align: right;\n    }\n</style>\n<table border=\"1\" class=\"dataframe\">\n  <thead>\n    <tr>\n      <th></th>\n      <th>Country_Region</th>\n      <th>Province_State</th>\n      <th>Admin2</th>\n      <th>Last_Update</th>\n      <th>Confirmed</th>\n      <th>Deaths</th>\n      <th>Recovered</th>\n    </tr>\n    <tr>\n      <th></th>\n      <th>sum</th>\n      <th>sum</th>\n      <th>sum</th>\n      <th>sum</th>\n      <th>sum</th>\n      <th>sum</th>\n      <th>sum</th>\n    </tr>\n    <tr>\n      <th>Last_Update_date</th>\n      <th></th>\n      <th></th>\n      <th></th>\n      <th></th>\n      <th></th>\n      <th></th>\n      <th></th>\n    </tr>\n  </thead>\n  <tbody>\n    <tr>\n      <th>1/26/20</th>\n      <td>US</td>\n      <td>California</td>\n      <td>0</td>\n      <td>1/26/20 16:00</td>\n      <td>2.0</td>\n      <td>0.0</td>\n      <td>0.0</td>\n    </tr>\n    <tr>\n      <th>1/27/20</th>\n      <td>US</td>\n      <td>California</td>\n      <td>0</td>\n      <td>1/27/20 23:59</td>\n      <td>2.0</td>\n      <td>0.0</td>\n      <td>0.0</td>\n    </tr>\n    <tr>\n      <th>1/28/20</th>\n      <td>US</td>\n      <td>California</td>\n      <td>0</td>\n      <td>1/28/20 23:00</td>\n      <td>2.0</td>\n      <td>0.0</td>\n      <td>0.0</td>\n    </tr>\n    <tr>\n      <th>1/29/20</th>\n      <td>US</td>\n      <td>California</td>\n      <td>0</td>\n      <td>1/29/20 19:30</td>\n      <td>2.0</td>\n      <td>0.0</td>\n      <td>0.0</td>\n    </tr>\n    <tr>\n      <th>1/30/20</th>\n      <td>US</td>\n      <td>California</td>\n      <td>0</td>\n      <td>1/30/20 16:00</td>\n      <td>2.0</td>\n      <td>0.0</td>\n      <td>0.0</td>\n    </tr>\n  </tbody>\n</table>\n</div>"
     },
     "metadata": {},
     "execution_count": 10
    }
   ],
   "source": [
    "combine_CA = combine_subset[(combine_subset['Province_State'].str.contains(state, na=False))]\n",
    "\n",
    "combine_CA.groupby(['Last_Update_date']).agg([np.sum]).head()"
   ]
  },
  {
   "cell_type": "markdown",
   "metadata": {},
   "source": [
    "### Read US census data by county and format"
   ]
  },
  {
   "cell_type": "code",
   "execution_count": 12,
   "metadata": {},
   "outputs": [
    {
     "output_type": "stream",
     "name": "stdout",
     "text": "County sensus file shape:(3193, 164)\n"
    },
    {
     "output_type": "execute_result",
     "data": {
      "text/plain": "   SUMLEV  REGION  DIVISION  STATE  COUNTY   STNAME         CTYNAME  \\\n0      40       3         6      1       0  Alabama         Alabama   \n1      50       3         6      1       1  Alabama  Autauga County   \n2      50       3         6      1       3  Alabama  Baldwin County   \n3      50       3         6      1       5  Alabama  Barbour County   \n4      50       3         6      1       7  Alabama     Bibb County   \n\n   CENSUS2010POP  ESTIMATESBASE2010  POPESTIMATE2010  ...  RDOMESTICMIG2019  \\\n0        4779736            4780125          4785437  ...          1.917501   \n1          54571              54597            54773  ...          4.847310   \n2         182265             182265           183112  ...         24.017829   \n3          27457              27455            27327  ...         -5.690302   \n4          22915              22915            22870  ...          1.385134   \n\n   RNETMIG2011  RNETMIG2012  RNETMIG2013  RNETMIG2014  RNETMIG2015  \\\n0     0.578434     1.186314     1.522549     0.563489     0.626357   \n1     6.018182    -6.226119    -3.902226     1.970443    -1.712875   \n2    16.641870    17.488579    22.751474    20.184334    17.725964   \n3     0.292676    -6.897817    -8.132185    -5.140431   -15.724575   \n4    -4.998356    -3.787545    -5.797999     1.331144     1.329817   \n\n   RNETMIG2016  RNETMIG2017  RNETMIG2018  RNETMIG2019  \n0     0.745172     1.090366     1.773786     2.483744  \n1     4.777171     0.849656     0.540916     4.560062  \n2    21.279291    22.398256    24.727215    24.380567  \n3   -18.238016   -24.998528    -8.754922    -5.165664  \n4    -0.708717    -3.234669    -6.857092     1.831952  \n\n[5 rows x 164 columns]",
      "text/html": "<div>\n<style scoped>\n    .dataframe tbody tr th:only-of-type {\n        vertical-align: middle;\n    }\n\n    .dataframe tbody tr th {\n        vertical-align: top;\n    }\n\n    .dataframe thead th {\n        text-align: right;\n    }\n</style>\n<table border=\"1\" class=\"dataframe\">\n  <thead>\n    <tr style=\"text-align: right;\">\n      <th></th>\n      <th>SUMLEV</th>\n      <th>REGION</th>\n      <th>DIVISION</th>\n      <th>STATE</th>\n      <th>COUNTY</th>\n      <th>STNAME</th>\n      <th>CTYNAME</th>\n      <th>CENSUS2010POP</th>\n      <th>ESTIMATESBASE2010</th>\n      <th>POPESTIMATE2010</th>\n      <th>...</th>\n      <th>RDOMESTICMIG2019</th>\n      <th>RNETMIG2011</th>\n      <th>RNETMIG2012</th>\n      <th>RNETMIG2013</th>\n      <th>RNETMIG2014</th>\n      <th>RNETMIG2015</th>\n      <th>RNETMIG2016</th>\n      <th>RNETMIG2017</th>\n      <th>RNETMIG2018</th>\n      <th>RNETMIG2019</th>\n    </tr>\n  </thead>\n  <tbody>\n    <tr>\n      <th>0</th>\n      <td>40</td>\n      <td>3</td>\n      <td>6</td>\n      <td>1</td>\n      <td>0</td>\n      <td>Alabama</td>\n      <td>Alabama</td>\n      <td>4779736</td>\n      <td>4780125</td>\n      <td>4785437</td>\n      <td>...</td>\n      <td>1.917501</td>\n      <td>0.578434</td>\n      <td>1.186314</td>\n      <td>1.522549</td>\n      <td>0.563489</td>\n      <td>0.626357</td>\n      <td>0.745172</td>\n      <td>1.090366</td>\n      <td>1.773786</td>\n      <td>2.483744</td>\n    </tr>\n    <tr>\n      <th>1</th>\n      <td>50</td>\n      <td>3</td>\n      <td>6</td>\n      <td>1</td>\n      <td>1</td>\n      <td>Alabama</td>\n      <td>Autauga County</td>\n      <td>54571</td>\n      <td>54597</td>\n      <td>54773</td>\n      <td>...</td>\n      <td>4.847310</td>\n      <td>6.018182</td>\n      <td>-6.226119</td>\n      <td>-3.902226</td>\n      <td>1.970443</td>\n      <td>-1.712875</td>\n      <td>4.777171</td>\n      <td>0.849656</td>\n      <td>0.540916</td>\n      <td>4.560062</td>\n    </tr>\n    <tr>\n      <th>2</th>\n      <td>50</td>\n      <td>3</td>\n      <td>6</td>\n      <td>1</td>\n      <td>3</td>\n      <td>Alabama</td>\n      <td>Baldwin County</td>\n      <td>182265</td>\n      <td>182265</td>\n      <td>183112</td>\n      <td>...</td>\n      <td>24.017829</td>\n      <td>16.641870</td>\n      <td>17.488579</td>\n      <td>22.751474</td>\n      <td>20.184334</td>\n      <td>17.725964</td>\n      <td>21.279291</td>\n      <td>22.398256</td>\n      <td>24.727215</td>\n      <td>24.380567</td>\n    </tr>\n    <tr>\n      <th>3</th>\n      <td>50</td>\n      <td>3</td>\n      <td>6</td>\n      <td>1</td>\n      <td>5</td>\n      <td>Alabama</td>\n      <td>Barbour County</td>\n      <td>27457</td>\n      <td>27455</td>\n      <td>27327</td>\n      <td>...</td>\n      <td>-5.690302</td>\n      <td>0.292676</td>\n      <td>-6.897817</td>\n      <td>-8.132185</td>\n      <td>-5.140431</td>\n      <td>-15.724575</td>\n      <td>-18.238016</td>\n      <td>-24.998528</td>\n      <td>-8.754922</td>\n      <td>-5.165664</td>\n    </tr>\n    <tr>\n      <th>4</th>\n      <td>50</td>\n      <td>3</td>\n      <td>6</td>\n      <td>1</td>\n      <td>7</td>\n      <td>Alabama</td>\n      <td>Bibb County</td>\n      <td>22915</td>\n      <td>22915</td>\n      <td>22870</td>\n      <td>...</td>\n      <td>1.385134</td>\n      <td>-4.998356</td>\n      <td>-3.787545</td>\n      <td>-5.797999</td>\n      <td>1.331144</td>\n      <td>1.329817</td>\n      <td>-0.708717</td>\n      <td>-3.234669</td>\n      <td>-6.857092</td>\n      <td>1.831952</td>\n    </tr>\n  </tbody>\n</table>\n<p>5 rows × 164 columns</p>\n</div>"
     },
     "metadata": {},
     "execution_count": 12
    }
   ],
   "source": [
    "census_df = pd.read_csv(file_census_county, encoding = \"ISO-8859-1\")\n",
    "print(f'County sensus file shape:{census_df.shape}')\n",
    "census_df.head()"
   ]
  },
  {
   "cell_type": "code",
   "execution_count": 14,
   "metadata": {},
   "outputs": [],
   "source": [
    "state_census_df = census_df.loc[census_df['COUNTY']==0]"
   ]
  },
  {
   "cell_type": "code",
   "execution_count": null,
   "metadata": {},
   "outputs": [],
   "source": []
  }
 ]
}