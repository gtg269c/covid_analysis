{
 "nbformat": 4,
 "nbformat_minor": 2,
 "metadata": {
  "language_info": {
   "name": "python",
   "codemirror_mode": {
    "name": "ipython",
    "version": 3
   },
   "version": "3.7.3-final"
  },
  "orig_nbformat": 2,
  "file_extension": ".py",
  "mimetype": "text/x-python",
  "name": "python",
  "npconvert_exporter": "python",
  "pygments_lexer": "ipython3",
  "version": 3,
  "kernelspec": {
   "name": "python37364bitdockercondaa5b4f2e7dbab413cac923ad1eb7c6587",
   "display_name": "Python 3.7.3 64-bit ('docker': conda)"
  }
 },
 "cells": [
  {
   "cell_type": "code",
   "execution_count": 8,
   "metadata": {},
   "outputs": [
    {
     "output_type": "stream",
     "name": "stdout",
     "text": "['D:\\\\ProgramData\\\\Anaconda3\\\\envs\\\\docker\\\\lib\\\\site-packages\\\\ipykernel_launcher.py', '-f', 'C:\\\\Users\\\\aminm\\\\AppData\\\\Roaming\\\\jupyter\\\\runtime\\\\kernel-6bffa452-8d51-4916-ba50-a2b96d071775.json']\n"
    },
    {
     "output_type": "execute_result",
     "data": {
      "text/plain": "<module 'covid_utils' from '../covid_analysis\\\\covid_utils.py'>"
     },
     "metadata": {},
     "execution_count": 8
    }
   ],
   "source": [
    "## libraries\n",
    "sys.path.append(\"../covid_analysis/\")\n",
    "import importlib\n",
    "import sys\n",
    "import os\n",
    "import numpy as np\n",
    "import pandas as pd \n",
    "import seaborn as sns\n",
    "import logging\n",
    "\n",
    "## custom libraries\n",
    "\n",
    "import covid_utils as cu\n",
    "importlib.reload(cu)\n",
    ""
   ]
  },
  {
   "cell_type": "code",
   "execution_count": 2,
   "metadata": {},
   "outputs": [],
   "source": [
    "# Add logging feature to capture daily changes\n",
    "logging.basicConfig(filename=\"covid_compile.log\",\n",
    "                    format='%(asctime)s %(message)s',\n",
    "                    filemode='a', level=logging.DEBUG)\n",
    "\n",
    "# Creating an object\n",
    "logger = logging.getLogger()"
   ]
  },
  {
   "cell_type": "code",
   "execution_count": 9,
   "metadata": {},
   "outputs": [],
   "source": [
    "## files and directories\n",
    "dir_input = '../COVID-19/csse_covid_19_data/csse_covid_19_daily_reports/'\n",
    "file_pattern = '*.csv'\n",
    "\n",
    "## column names to rename\n",
    "# ref https://www.geeksforgeeks.org/how-to-rename-columns-in-pandas-dataframe/\n",
    "\n",
    "column_rename = {'Country/Region':'Country_Region', 'Province/State':'Province_State', 'Last Update':'Last_Update','Latitude':'Lat' , 'Longitude':'Long_'}\n",
    ""
   ]
  },
  {
   "cell_type": "code",
   "execution_count": 11,
   "metadata": {},
   "outputs": [
    {
     "output_type": "stream",
     "name": "stdout",
     "text": "Total daily reports: 73\n   Active Admin2 Combined_Key  Confirmed  Country_Region  Deaths  FIPS  \\\n0     NaN    NaN          NaN        1.0  Mainland China     NaN   NaN   \n1     NaN    NaN          NaN       14.0  Mainland China     NaN   NaN   \n2     NaN    NaN          NaN        6.0  Mainland China     NaN   NaN   \n3     NaN    NaN          NaN        1.0  Mainland China     NaN   NaN   \n4     NaN    NaN          NaN        NaN  Mainland China     NaN   NaN   \n\n       Last_Update  Lat  Long_ Province_State  Recovered  \n0  1/22/2020 17:00  NaN    NaN          Anhui        NaN  \n1  1/22/2020 17:00  NaN    NaN        Beijing        NaN  \n2  1/22/2020 17:00  NaN    NaN      Chongqing        NaN  \n3  1/22/2020 17:00  NaN    NaN         Fujian        NaN  \n4  1/22/2020 17:00  NaN    NaN          Gansu        NaN  \nIndex(['Active', 'Admin2', 'Combined_Key', 'Confirmed', 'Country_Region',\n       'Deaths', 'FIPS', 'Last_Update', 'Lat', 'Long_', 'Province_State',\n       'Recovered'],\n      dtype='object')\n                                                           Confirmed  Deaths\nCountry_Region Province_State Admin2  Last_Update                           \nUS             Alabama        Autauga 2020-03-23 23:19:34        0.0     0.0\n                                      2020-03-24 23:37:31        1.0     0.0\n                                      2020-03-25 23:33:19        4.0     0.0\n                                      2020-03-26 23:48:35        6.0     0.0\n                                      2020-03-27 22:14:55        6.0     0.0\n"
    }
   ],
   "source": [
    "# read daily reports\n",
    "\n",
    "combine_df = cu.read_daily_reports(dir_input, file_pattern, rename_col=column_rename)\n",
    "logger.info(f'Dim of combine df: {str(combine_df.shape)}')\n",
    "print(combine_df.head())\n",
    "print(combine_df.columns)\n",
    "\n",
    "list_group = ['Country_Region', 'Province_State','Admin2','Last_Update']\n",
    "list_display = ['Confirmed', 'Deaths']\n",
    "country_summ = cu.summarize_by_county(combine_df, list_group, list_display)\n",
    "print(country_summ.head())"
   ]
  },
  {
   "cell_type": "code",
   "execution_count": 12,
   "metadata": {},
   "outputs": [
    {
     "output_type": "execute_result",
     "data": {
      "text/plain": "   Active Admin2 Combined_Key  Confirmed  Country_Region  Deaths  FIPS  \\\n0     NaN    NaN          NaN        1.0  Mainland China     NaN   NaN   \n1     NaN    NaN          NaN       14.0  Mainland China     NaN   NaN   \n2     NaN    NaN          NaN        6.0  Mainland China     NaN   NaN   \n3     NaN    NaN          NaN        1.0  Mainland China     NaN   NaN   \n4     NaN    NaN          NaN        NaN  Mainland China     NaN   NaN   \n\n       Last_Update  Lat  Long_ Province_State  Recovered Last_Update_date  \n0  1/22/2020 17:00  NaN    NaN          Anhui        NaN        1/22/2020  \n1  1/22/2020 17:00  NaN    NaN        Beijing        NaN        1/22/2020  \n2  1/22/2020 17:00  NaN    NaN      Chongqing        NaN        1/22/2020  \n3  1/22/2020 17:00  NaN    NaN         Fujian        NaN        1/22/2020  \n4  1/22/2020 17:00  NaN    NaN          Gansu        NaN        1/22/2020  ",
      "text/html": "<div>\n<style scoped>\n    .dataframe tbody tr th:only-of-type {\n        vertical-align: middle;\n    }\n\n    .dataframe tbody tr th {\n        vertical-align: top;\n    }\n\n    .dataframe thead th {\n        text-align: right;\n    }\n</style>\n<table border=\"1\" class=\"dataframe\">\n  <thead>\n    <tr style=\"text-align: right;\">\n      <th></th>\n      <th>Active</th>\n      <th>Admin2</th>\n      <th>Combined_Key</th>\n      <th>Confirmed</th>\n      <th>Country_Region</th>\n      <th>Deaths</th>\n      <th>FIPS</th>\n      <th>Last_Update</th>\n      <th>Lat</th>\n      <th>Long_</th>\n      <th>Province_State</th>\n      <th>Recovered</th>\n      <th>Last_Update_date</th>\n    </tr>\n  </thead>\n  <tbody>\n    <tr>\n      <th>0</th>\n      <td>NaN</td>\n      <td>NaN</td>\n      <td>NaN</td>\n      <td>1.0</td>\n      <td>Mainland China</td>\n      <td>NaN</td>\n      <td>NaN</td>\n      <td>1/22/2020 17:00</td>\n      <td>NaN</td>\n      <td>NaN</td>\n      <td>Anhui</td>\n      <td>NaN</td>\n      <td>1/22/2020</td>\n    </tr>\n    <tr>\n      <th>1</th>\n      <td>NaN</td>\n      <td>NaN</td>\n      <td>NaN</td>\n      <td>14.0</td>\n      <td>Mainland China</td>\n      <td>NaN</td>\n      <td>NaN</td>\n      <td>1/22/2020 17:00</td>\n      <td>NaN</td>\n      <td>NaN</td>\n      <td>Beijing</td>\n      <td>NaN</td>\n      <td>1/22/2020</td>\n    </tr>\n    <tr>\n      <th>2</th>\n      <td>NaN</td>\n      <td>NaN</td>\n      <td>NaN</td>\n      <td>6.0</td>\n      <td>Mainland China</td>\n      <td>NaN</td>\n      <td>NaN</td>\n      <td>1/22/2020 17:00</td>\n      <td>NaN</td>\n      <td>NaN</td>\n      <td>Chongqing</td>\n      <td>NaN</td>\n      <td>1/22/2020</td>\n    </tr>\n    <tr>\n      <th>3</th>\n      <td>NaN</td>\n      <td>NaN</td>\n      <td>NaN</td>\n      <td>1.0</td>\n      <td>Mainland China</td>\n      <td>NaN</td>\n      <td>NaN</td>\n      <td>1/22/2020 17:00</td>\n      <td>NaN</td>\n      <td>NaN</td>\n      <td>Fujian</td>\n      <td>NaN</td>\n      <td>1/22/2020</td>\n    </tr>\n    <tr>\n      <th>4</th>\n      <td>NaN</td>\n      <td>NaN</td>\n      <td>NaN</td>\n      <td>NaN</td>\n      <td>Mainland China</td>\n      <td>NaN</td>\n      <td>NaN</td>\n      <td>1/22/2020 17:00</td>\n      <td>NaN</td>\n      <td>NaN</td>\n      <td>Gansu</td>\n      <td>NaN</td>\n      <td>1/22/2020</td>\n    </tr>\n  </tbody>\n</table>\n</div>"
     },
     "metadata": {},
     "execution_count": 12
    }
   ],
   "source": [
    "## Make update date column\n",
    "combine_df['Last_Update_date'] = [str(d).split(' ')[0] for d in combine_df['Last_Update']]\n",
    "combine_df.head()\n",
    ""
   ]
  },
  {
   "cell_type": "code",
   "execution_count": 13,
   "metadata": {},
   "outputs": [],
   "source": [
    "select_col = ['Country_Region',  'Province_State','Admin2','Last_Update', 'Confirmed', 'Deaths', 'Recovered', 'Last_Update_date']\n",
    "combine_subset = combine_df[select_col]"
   ]
  },
  {
   "cell_type": "code",
   "execution_count": 14,
   "metadata": {},
   "outputs": [
    {
     "output_type": "stream",
     "name": "stdout",
     "text": "Joint state: California|CA\n['Washington' 'Chicago' 'Illinois' 'California' 'Arizona' 'Chicago, IL'\n 'Boston, MA' 'Los Angeles, CA' 'Orange, CA' 'Santa Clara, CA'\n 'Seattle, WA' 'Tempe, AZ' 'San Benito, CA' 'Madison, WI'\n 'San Diego County, CA' 'San Antonio, TX' 'Ashland, NE' 'Travis, CA'\n 'Lackland, TX' 'Humboldt County, CA' 'Sacramento County, CA'\n 'Omaha, NE (From Diamond Princess)' 'Travis, CA (From Diamond Princess)'\n 'Lackland, TX (From Diamond Princess)'\n 'Unassigned Location (From Diamond Princess)' 'Portland, OR'\n 'Snohomish County, WA' 'Providence, RI' 'King County, WA'\n 'Cook County, IL' 'Grafton County, NH' 'Hillsborough, FL'\n 'New York City, NY' 'Placer County, CA' 'San Mateo, CA' 'Sarasota, FL'\n 'Sonoma County, CA' 'Umatilla, OR' 'Fulton County, GA'\n 'Washington County, OR' ' Norfolk County, MA' 'Berkeley, CA'\n 'Maricopa County, AZ' 'Wake County, NC' 'Westchester County, NY'\n 'Orange County, CA' 'Contra Costa County, CA' 'Bergen County, NJ'\n 'Harris County, TX' 'San Francisco County, CA' 'Clark County, NV'\n 'Fort Bend County, TX' 'Grant County, WA' 'Queens County, NY'\n 'Santa Rosa County, FL' 'Williamson County, TN' 'New York County, NY'\n 'Unassigned Location, WA' 'Montgomery County, MD' 'Suffolk County, MA'\n 'Denver County, CO' 'Summit County, CO' 'Chatham County, NC'\n 'Delaware County, PA' 'Douglas County, NE' 'Fayette County, KY'\n 'Floyd County, GA' 'Marion County, IN' 'Middlesex County, MA'\n 'Nassau County, NY' 'Norwell County, MA' 'Ramsey County, MN'\n 'Washoe County, NV' 'Wayne County, PA' 'Yolo County, CA'\n 'Santa Clara County, CA' 'Grand Princess Cruise Ship'\n 'Douglas County, CO' 'Providence County, RI' 'Alameda County, CA'\n 'Broward County, FL' 'Fairfield County, CT' 'Lee County, FL'\n 'Pinal County, AZ' 'Rockland County, NY' 'Saratoga County, NY'\n 'Charleston County, SC' 'Clark County, WA' 'Cobb County, GA'\n 'Davis County, UT' 'El Paso County, CO' 'Honolulu County, HI'\n 'Jackson County, OR ' 'Jefferson County, WA' 'Kershaw County, SC'\n 'Klamath County, OR' 'Madera County, CA' 'Pierce County, WA'\n 'Plymouth County, MA' 'Santa Cruz County, CA' 'Tulsa County, OK'\n 'Montgomery County, TX' 'Norfolk County, MA' 'Montgomery County, PA'\n 'Fairfax County, VA' 'Rockingham County, NH' 'Washington, D.C.'\n 'Berkshire County, MA' 'Davidson County, TN' 'Douglas County, OR'\n 'Fresno County, CA' 'Harford County, MD' 'Hendricks County, IN'\n 'Hudson County, NJ' 'Johnson County, KS' 'Kittitas County, WA'\n 'Manatee County, FL' 'Marion County, OR' 'Okaloosa County, FL'\n 'Polk County, GA' 'Riverside County, CA' 'Shelby County, TN'\n 'Spokane County, WA' 'St. Louis County, MO' 'Suffolk County, NY'\n 'Ulster County, NY' 'Unassigned Location, VT' 'Unknown Location, MA'\n 'Volusia County, FL' 'Johnson County, IA' 'Harrison County, KY'\n 'Bennington County, VT' 'Carver County, MN' 'Charlotte County, FL'\n 'Cherokee County, GA' 'Collin County, TX' 'Jefferson County, KY'\n 'Jefferson Parish, LA' 'Shasta County, CA' 'Spartanburg County, SC'\n 'New York' 'Massachusetts' 'Diamond Princess' 'Grand Princess' 'Georgia'\n 'Colorado' 'Florida' 'New Jersey' 'Oregon' 'Texas' 'Pennsylvania' 'Iowa'\n 'Maryland' 'North Carolina' 'South Carolina' 'Tennessee' 'Virginia'\n 'Indiana' 'Kentucky' 'District of Columbia' 'Nevada' 'New Hampshire'\n 'Minnesota' 'Nebraska' 'Ohio' 'Rhode Island' 'Wisconsin' 'Connecticut'\n 'Hawaii' 'Oklahoma' 'Utah' 'Kansas' 'Louisiana' 'Missouri' 'Vermont'\n 'Alaska' 'Arkansas' 'Delaware' 'Idaho' 'Maine' 'Michigan' 'Mississippi'\n 'Montana' 'New Mexico' 'North Dakota' 'South Dakota' 'West Virginia'\n 'Wyoming' 'Alabama' 'Puerto Rico' 'Virgin Islands, U.S.' 'Guam'\n 'Virgin Islands' 'United States Virgin Islands' 'US' 'Wuhan Evacuee'\n 'American Samoa' 'Northern Mariana Islands' 'Recovered']\n(1033, 8)\n      Country_Region Province_State      Admin2          Last_Update  \\\n204               US     California         NaN        1/26/20 16:00   \n251               US     California         NaN        1/27/20 23:59   \n302               US     California         NaN        1/28/20 23:00   \n354               US     California         NaN        1/29/20 19:30   \n409               US     California         NaN        1/30/20 16:00   \n...              ...            ...         ...                  ...   \n48004             US     California    Tuolumne  2020-04-03 22:46:37   \n48020             US     California  Unassigned  2020-04-03 22:46:37   \n48084             US     California     Ventura  2020-04-03 22:46:37   \n48276             US     California        Yolo  2020-04-03 22:46:37   \n48283             US     California        Yuba  2020-04-03 22:46:37   \n\n       Confirmed  Deaths  Recovered Last_Update_date  \n204          2.0     NaN        NaN          1/26/20  \n251          2.0     NaN        NaN          1/27/20  \n302          2.0     NaN        NaN          1/28/20  \n354          2.0     NaN        NaN          1/29/20  \n409          2.0     NaN        NaN          1/30/20  \n...          ...     ...        ...              ...  \n48004        2.0     0.0        0.0       2020-04-03  \n48020        0.0     2.0        0.0       2020-04-03  \n48084      177.0     6.0        0.0       2020-04-03  \n48276       33.0     1.0        0.0       2020-04-03  \n48283        8.0     0.0        0.0       2020-04-03  \n\n[1033 rows x 8 columns]\n"
    }
   ],
   "source": [
    "country = 'US'\n",
    "state = ['California','CA']\n",
    "state = '|'.join(str(x) for x in state)\n",
    "print(f'Joint state: {state}')\n",
    "\n",
    "print(combine_subset[(combine_subset['Country_Region']=='US')]['Province_State'].unique())\n",
    "print(combine_subset[(combine_subset['Province_State'].str.contains(state, na=False))].shape)\n",
    "print(combine_subset[(combine_subset['Province_State'].str.contains(state, na=False))])\n",
    "\n",
    "\n",
    ""
   ]
  },
  {
   "cell_type": "code",
   "execution_count": 16,
   "metadata": {},
   "outputs": [
    {
     "output_type": "execute_result",
     "data": {
      "text/plain": "                                                     Country_Region  \\\n                                                                sum   \nLast_Update_date                                                      \n1/26/20                                                          US   \n1/27/20                                                          US   \n1/28/20                                                          US   \n1/29/20                                                          US   \n1/30/20                                                          US   \n...                                                             ...   \n2020-03-31        USUSUSUSUSUSUSUSUSUSUSUSUSUSUSUSUSUSUSUSUSUSUS...   \n2020-04-01        USUSUSUSUSUSUSUSUSUSUSUSUSUSUSUSUSUSUSUSUSUSUS...   \n2020-04-02        USUSUSUSUSUSUSUSUSUSUSUSUSUSUSUSUSUSUSUSUSUSUS...   \n2020-04-03        USUSUSUSUSUSUSUSUSUSUSUSUSUSUSUSUSUSUSUSUSUSUS...   \n3/22/20           USUSUSUSUSUSUSUSUSUSUSUSUSUSUSUSUSUSUSUSUSUSUS...   \n\n                                                     Province_State  \\\n                                                                sum   \nLast_Update_date                                                      \n1/26/20                                                  California   \n1/27/20                                                  California   \n1/28/20                                                  California   \n1/29/20                                                  California   \n1/30/20                                                  California   \n...                                                             ...   \n2020-03-31        CaliforniaCaliforniaCaliforniaCaliforniaCalifo...   \n2020-04-01        CaliforniaCaliforniaCaliforniaCaliforniaCalifo...   \n2020-04-02        CaliforniaCaliforniaCaliforniaCaliforniaCalifo...   \n2020-04-03        CaliforniaCaliforniaCaliforniaCaliforniaCalifo...   \n3/22/20           CaliforniaCaliforniaCaliforniaCaliforniaCalifo...   \n\n                                                             Admin2  \\\n                                                                sum   \nLast_Update_date                                                      \n1/26/20                                                           0   \n1/27/20                                                           0   \n1/28/20                                                           0   \n1/29/20                                                           0   \n1/30/20                                                           0   \n...                                                             ...   \n2020-03-31        AlamedaAmadorButteCalaverasColusaContra CostaE...   \n2020-04-01        AlamedaAlpineAmadorButteCalaverasColusaContra ...   \n2020-04-02        AlamedaAlpineAmadorButteCalaverasColusaContra ...   \n2020-04-03        AlamedaAlpineAmadorButteCalaverasColusaContra ...   \n3/22/20           Los AngelesSanta ClaraSan DiegoSan MateoSan Fr...   \n\n                                                        Last_Update Confirmed  \\\n                                                                sum       sum   \nLast_Update_date                                                                \n1/26/20                                               1/26/20 16:00       2.0   \n1/27/20                                               1/27/20 23:59       2.0   \n1/28/20                                               1/28/20 23:00       2.0   \n1/29/20                                               1/29/20 19:30       2.0   \n1/30/20                                               1/30/20 16:00       2.0   \n...                                                             ...       ...   \n2020-03-31        2020-03-31 23:43:562020-03-31 23:43:562020-03-...    8210.0   \n2020-04-01        2020-04-01 21:58:492020-04-01 21:58:492020-04-...    9399.0   \n2020-04-02        2020-04-02 23:25:272020-04-02 23:25:272020-04-...   10773.0   \n2020-04-03        2020-04-03 22:46:372020-04-03 22:46:372020-04-...   12004.0   \n3/22/20           3/22/20 23:453/22/20 23:453/22/20 23:453/22/20...    1646.0   \n\n                 Deaths Recovered  \n                    sum       sum  \nLast_Update_date                   \n1/26/20             0.0       0.0  \n1/27/20             0.0       0.0  \n1/28/20             0.0       0.0  \n1/29/20             0.0       0.0  \n1/30/20             0.0       0.0  \n...                 ...       ...  \n2020-03-31        173.0       0.0  \n2020-04-01        199.0       0.0  \n2020-04-02        238.0       0.0  \n2020-04-03        265.0       0.0  \n3/22/20            30.0       0.0  \n\n[77 rows x 7 columns]",
      "text/html": "<div>\n<style scoped>\n    .dataframe tbody tr th:only-of-type {\n        vertical-align: middle;\n    }\n\n    .dataframe tbody tr th {\n        vertical-align: top;\n    }\n\n    .dataframe thead tr th {\n        text-align: left;\n    }\n\n    .dataframe thead tr:last-of-type th {\n        text-align: right;\n    }\n</style>\n<table border=\"1\" class=\"dataframe\">\n  <thead>\n    <tr>\n      <th></th>\n      <th>Country_Region</th>\n      <th>Province_State</th>\n      <th>Admin2</th>\n      <th>Last_Update</th>\n      <th>Confirmed</th>\n      <th>Deaths</th>\n      <th>Recovered</th>\n    </tr>\n    <tr>\n      <th></th>\n      <th>sum</th>\n      <th>sum</th>\n      <th>sum</th>\n      <th>sum</th>\n      <th>sum</th>\n      <th>sum</th>\n      <th>sum</th>\n    </tr>\n    <tr>\n      <th>Last_Update_date</th>\n      <th></th>\n      <th></th>\n      <th></th>\n      <th></th>\n      <th></th>\n      <th></th>\n      <th></th>\n    </tr>\n  </thead>\n  <tbody>\n    <tr>\n      <th>1/26/20</th>\n      <td>US</td>\n      <td>California</td>\n      <td>0</td>\n      <td>1/26/20 16:00</td>\n      <td>2.0</td>\n      <td>0.0</td>\n      <td>0.0</td>\n    </tr>\n    <tr>\n      <th>1/27/20</th>\n      <td>US</td>\n      <td>California</td>\n      <td>0</td>\n      <td>1/27/20 23:59</td>\n      <td>2.0</td>\n      <td>0.0</td>\n      <td>0.0</td>\n    </tr>\n    <tr>\n      <th>1/28/20</th>\n      <td>US</td>\n      <td>California</td>\n      <td>0</td>\n      <td>1/28/20 23:00</td>\n      <td>2.0</td>\n      <td>0.0</td>\n      <td>0.0</td>\n    </tr>\n    <tr>\n      <th>1/29/20</th>\n      <td>US</td>\n      <td>California</td>\n      <td>0</td>\n      <td>1/29/20 19:30</td>\n      <td>2.0</td>\n      <td>0.0</td>\n      <td>0.0</td>\n    </tr>\n    <tr>\n      <th>1/30/20</th>\n      <td>US</td>\n      <td>California</td>\n      <td>0</td>\n      <td>1/30/20 16:00</td>\n      <td>2.0</td>\n      <td>0.0</td>\n      <td>0.0</td>\n    </tr>\n    <tr>\n      <th>1/31/2020</th>\n      <td>US</td>\n      <td>California</td>\n      <td>0</td>\n      <td>1/31/2020 23:59</td>\n      <td>2.0</td>\n      <td>0.0</td>\n      <td>0.0</td>\n    </tr>\n    <tr>\n      <th>2/1/2020</th>\n      <td>USUSUS</td>\n      <td>Los Angeles, CAOrange, CASanta Clara, CA</td>\n      <td>0</td>\n      <td>2/1/2020 19:532/1/2020 19:532/1/2020 19:53</td>\n      <td>3.0</td>\n      <td>0.0</td>\n      <td>0.0</td>\n    </tr>\n    <tr>\n      <th>2020-02-01T19:53:03</th>\n      <td>USUSUSUSUSUSUSUSUSUSUSUSUSUSUSUSUSUSUSUSUSUSUS...</td>\n      <td>Los Angeles, CAOrange, CASanta Clara, CALos An...</td>\n      <td>0</td>\n      <td>2020-02-01T19:53:032020-02-01T19:53:032020-02-...</td>\n      <td>63.0</td>\n      <td>0.0</td>\n      <td>0.0</td>\n    </tr>\n    <tr>\n      <th>2020-02-03T00:43:02</th>\n      <td>USUSUSUSUSUSUSUSUSUSUSUSUSUSUSUSUSUS</td>\n      <td>Santa Clara, CASanta Clara, CASanta Clara, CAS...</td>\n      <td>0</td>\n      <td>2020-02-03T00:43:022020-02-03T00:43:022020-02-...</td>\n      <td>36.0</td>\n      <td>0.0</td>\n      <td>0.0</td>\n    </tr>\n    <tr>\n      <th>2020-02-03T03:53:02</th>\n      <td>USUSUSUSUSUSUSUSUSUSUSUSUSUSUSUSUSUSUSUSUSUSUS...</td>\n      <td>San Benito, CASan Benito, CASan Benito, CASan ...</td>\n      <td>0</td>\n      <td>2020-02-03T03:53:022020-02-03T03:53:022020-02-...</td>\n      <td>72.0</td>\n      <td>0.0</td>\n      <td>0.0</td>\n    </tr>\n    <tr>\n      <th>2020-02-11T01:23:05</th>\n      <td>USUS</td>\n      <td>San Diego County, CASan Diego County, CA</td>\n      <td>0</td>\n      <td>2020-02-11T01:23:052020-02-11T01:23:05</td>\n      <td>2.0</td>\n      <td>0.0</td>\n      <td>0.0</td>\n    </tr>\n    <tr>\n      <th>2020-02-13T03:13:08</th>\n      <td>USUSUSUSUSUSUSUS</td>\n      <td>San Diego County, CASan Diego County, CASan Di...</td>\n      <td>0</td>\n      <td>2020-02-13T03:13:082020-02-13T03:13:082020-02-...</td>\n      <td>16.0</td>\n      <td>0.0</td>\n      <td>0.0</td>\n    </tr>\n    <tr>\n      <th>2020-02-21T05:13:09</th>\n      <td>USUSUSUSUSUSUSUSUSUSUSUSUSUSUSUSUSUS</td>\n      <td>Humboldt County, CAHumboldt County, CAHumboldt...</td>\n      <td>0</td>\n      <td>2020-02-21T05:13:092020-02-21T05:13:092020-02-...</td>\n      <td>18.0</td>\n      <td>0.0</td>\n      <td>0.0</td>\n    </tr>\n    <tr>\n      <th>2020-02-21T05:23:04</th>\n      <td>USUSUSUSUSUSUSUS</td>\n      <td>Santa Clara, CASanta Clara, CASanta Clara, CAS...</td>\n      <td>0</td>\n      <td>2020-02-21T05:23:042020-02-21T05:23:042020-02-...</td>\n      <td>16.0</td>\n      <td>0.0</td>\n      <td>8.0</td>\n    </tr>\n    <tr>\n      <th>2020-02-21T05:43:02</th>\n      <td>USUSUSUSUSUSUSUSUSUSUSUSUS</td>\n      <td>San Diego County, CASan Diego County, CASan Di...</td>\n      <td>0</td>\n      <td>2020-02-21T05:43:022020-02-21T05:43:022020-02-...</td>\n      <td>26.0</td>\n      <td>0.0</td>\n      <td>13.0</td>\n    </tr>\n    <tr>\n      <th>2020-02-21T23:13:16</th>\n      <td>USUSUSUSUSUS</td>\n      <td>Sacramento County, CASacramento County, CASacr...</td>\n      <td>0</td>\n      <td>2020-02-21T23:13:162020-02-21T23:13:162020-02-...</td>\n      <td>6.0</td>\n      <td>0.0</td>\n      <td>0.0</td>\n    </tr>\n    <tr>\n      <th>2020-02-21T23:23:06</th>\n      <td>US</td>\n      <td>Travis, CA</td>\n      <td>0</td>\n      <td>2020-02-21T23:23:06</td>\n      <td>5.0</td>\n      <td>0.0</td>\n      <td>0.0</td>\n    </tr>\n    <tr>\n      <th>2020-02-22T17:13:24</th>\n      <td>USUS</td>\n      <td>Travis, CA (From Diamond Princess)Travis, CA (...</td>\n      <td>0</td>\n      <td>2020-02-22T17:13:242020-02-22T17:13:24</td>\n      <td>10.0</td>\n      <td>0.0</td>\n      <td>0.0</td>\n    </tr>\n    <tr>\n      <th>2020-02-24T23:33:02</th>\n      <td>USUSUSUSUSUSUSUSUSUSUSUSUSUSUS</td>\n      <td>Travis, CA (From Diamond Princess)Travis, CA (...</td>\n      <td>0</td>\n      <td>2020-02-24T23:33:022020-02-24T23:33:022020-02-...</td>\n      <td>0.0</td>\n      <td>0.0</td>\n      <td>0.0</td>\n    </tr>\n    <tr>\n      <th>2020-02-27T20:33:02</th>\n      <td>USUSUSUSUSUSUSUSUSUSUSUS</td>\n      <td>Sacramento County, CASacramento County, CASacr...</td>\n      <td>0</td>\n      <td>2020-02-27T20:33:022020-02-27T20:33:022020-02-...</td>\n      <td>24.0</td>\n      <td>0.0</td>\n      <td>0.0</td>\n    </tr>\n    <tr>\n      <th>2020-02-29T01:33:03</th>\n      <td>USUS</td>\n      <td>Santa Clara, CASanta Clara, CA</td>\n      <td>0</td>\n      <td>2020-02-29T01:33:032020-02-29T01:33:03</td>\n      <td>6.0</td>\n      <td>0.0</td>\n      <td>2.0</td>\n    </tr>\n    <tr>\n      <th>2020-03-02T20:33:02</th>\n      <td>US</td>\n      <td>Santa Clara, CA</td>\n      <td>0</td>\n      <td>2020-03-02T20:33:02</td>\n      <td>9.0</td>\n      <td>0.0</td>\n      <td>1.0</td>\n    </tr>\n    <tr>\n      <th>2020-03-02T20:43:02</th>\n      <td>US</td>\n      <td>San Mateo, CA</td>\n      <td>0</td>\n      <td>2020-03-02T20:43:02</td>\n      <td>1.0</td>\n      <td>0.0</td>\n      <td>0.0</td>\n    </tr>\n    <tr>\n      <th>2020-03-02T20:53:02</th>\n      <td>USUSUSUSUSUSUS</td>\n      <td>Sonoma County, CASonoma County, CASonoma Count...</td>\n      <td>0</td>\n      <td>2020-03-02T20:53:022020-03-02T20:53:022020-03-...</td>\n      <td>7.0</td>\n      <td>0.0</td>\n      <td>0.0</td>\n    </tr>\n    <tr>\n      <th>2020-03-02T23:53:02</th>\n      <td>USUS</td>\n      <td>Placer County, CAPlacer County, CA</td>\n      <td>0</td>\n      <td>2020-03-02T23:53:022020-03-02T23:53:02</td>\n      <td>2.0</td>\n      <td>0.0</td>\n      <td>0.0</td>\n    </tr>\n    <tr>\n      <th>2020-03-03T00:43:02</th>\n      <td>USUSUSUSUSUSUS</td>\n      <td>San Mateo, CASan Mateo, CASan Mateo, CASan Mat...</td>\n      <td>0</td>\n      <td>2020-03-03T00:43:022020-03-03T00:43:022020-03-...</td>\n      <td>14.0</td>\n      <td>0.0</td>\n      <td>0.0</td>\n    </tr>\n    <tr>\n      <th>2020-03-03T23:33:03</th>\n      <td>USUS</td>\n      <td>Santa Clara, CASanta Clara, CA</td>\n      <td>0</td>\n      <td>2020-03-03T23:33:032020-03-03T23:33:03</td>\n      <td>22.0</td>\n      <td>0.0</td>\n      <td>2.0</td>\n    </tr>\n    <tr>\n      <th>2020-03-03T23:53:03</th>\n      <td>USUSUSUS</td>\n      <td>Berkeley, CABerkeley, CABerkeley, CABerkeley, CA</td>\n      <td>0</td>\n      <td>2020-03-03T23:53:032020-03-03T23:53:032020-03-...</td>\n      <td>4.0</td>\n      <td>0.0</td>\n      <td>0.0</td>\n    </tr>\n    <tr>\n      <th>2020-03-04T02:13:11</th>\n      <td>USUSUSUSUS</td>\n      <td>Orange County, CAOrange County, CAOrange Count...</td>\n      <td>0</td>\n      <td>2020-03-04T02:13:112020-03-04T02:13:112020-03-...</td>\n      <td>15.0</td>\n      <td>0.0</td>\n      <td>0.0</td>\n    </tr>\n    <tr>\n      <th>2020-03-04T04:23:05</th>\n      <td>USUS</td>\n      <td>Contra Costa County, CAContra Costa County, CA</td>\n      <td>0</td>\n      <td>2020-03-04T04:23:052020-03-04T04:23:05</td>\n      <td>2.0</td>\n      <td>0.0</td>\n      <td>0.0</td>\n    </tr>\n    <tr>\n      <th>...</th>\n      <td>...</td>\n      <td>...</td>\n      <td>...</td>\n      <td>...</td>\n      <td>...</td>\n      <td>...</td>\n      <td>...</td>\n    </tr>\n    <tr>\n      <th>2020-03-08T21:43:03</th>\n      <td>USUS</td>\n      <td>Contra Costa County, CAContra Costa County, CA</td>\n      <td>0</td>\n      <td>2020-03-08T21:43:032020-03-08T21:43:03</td>\n      <td>24.0</td>\n      <td>0.0</td>\n      <td>0.0</td>\n    </tr>\n    <tr>\n      <th>2020-03-09T00:23:10</th>\n      <td>US</td>\n      <td>Orange County, CA</td>\n      <td>0</td>\n      <td>2020-03-09T00:23:10</td>\n      <td>4.0</td>\n      <td>0.0</td>\n      <td>0.0</td>\n    </tr>\n    <tr>\n      <th>2020-03-09T03:43:03</th>\n      <td>US</td>\n      <td>Shasta County, CA</td>\n      <td>0</td>\n      <td>2020-03-09T03:43:03</td>\n      <td>1.0</td>\n      <td>0.0</td>\n      <td>0.0</td>\n    </tr>\n    <tr>\n      <th>2020-03-09T08:23:03</th>\n      <td>US</td>\n      <td>Placer County, CA</td>\n      <td>0</td>\n      <td>2020-03-09T08:23:03</td>\n      <td>7.0</td>\n      <td>1.0</td>\n      <td>0.0</td>\n    </tr>\n    <tr>\n      <th>2020-03-09T12:03:07</th>\n      <td>US</td>\n      <td>Sonoma County, CA</td>\n      <td>0</td>\n      <td>2020-03-09T12:03:07</td>\n      <td>3.0</td>\n      <td>0.0</td>\n      <td>0.0</td>\n    </tr>\n    <tr>\n      <th>2020-03-10T19:13:28</th>\n      <td>US</td>\n      <td>California</td>\n      <td>0</td>\n      <td>2020-03-10T19:13:28</td>\n      <td>144.0</td>\n      <td>2.0</td>\n      <td>2.0</td>\n    </tr>\n    <tr>\n      <th>2020-03-11T20:00:00</th>\n      <td>US</td>\n      <td>California</td>\n      <td>0</td>\n      <td>2020-03-11T20:00:00</td>\n      <td>282.0</td>\n      <td>4.0</td>\n      <td>6.0</td>\n    </tr>\n    <tr>\n      <th>2020-03-11T23:53:03</th>\n      <td>US</td>\n      <td>California</td>\n      <td>0</td>\n      <td>2020-03-11T23:53:03</td>\n      <td>177.0</td>\n      <td>3.0</td>\n      <td>2.0</td>\n    </tr>\n    <tr>\n      <th>2020-03-12T23:44:33</th>\n      <td>US</td>\n      <td>California</td>\n      <td>0</td>\n      <td>2020-03-12T23:44:33</td>\n      <td>221.0</td>\n      <td>4.0</td>\n      <td>6.0</td>\n    </tr>\n    <tr>\n      <th>2020-03-14T22:13:32</th>\n      <td>US</td>\n      <td>California</td>\n      <td>0</td>\n      <td>2020-03-14T22:13:32</td>\n      <td>340.0</td>\n      <td>5.0</td>\n      <td>6.0</td>\n    </tr>\n    <tr>\n      <th>2020-03-15T18:33:03</th>\n      <td>US</td>\n      <td>California</td>\n      <td>0</td>\n      <td>2020-03-15T18:33:03</td>\n      <td>426.0</td>\n      <td>6.0</td>\n      <td>6.0</td>\n    </tr>\n    <tr>\n      <th>2020-03-16T23:53:03</th>\n      <td>US</td>\n      <td>California</td>\n      <td>0</td>\n      <td>2020-03-16T23:53:03</td>\n      <td>557.0</td>\n      <td>7.0</td>\n      <td>6.0</td>\n    </tr>\n    <tr>\n      <th>2020-03-17T22:53:03</th>\n      <td>US</td>\n      <td>California</td>\n      <td>0</td>\n      <td>2020-03-17T22:53:03</td>\n      <td>698.0</td>\n      <td>12.0</td>\n      <td>6.0</td>\n    </tr>\n    <tr>\n      <th>2020-03-18T19:14:34</th>\n      <td>US</td>\n      <td>California</td>\n      <td>0</td>\n      <td>2020-03-18T19:14:34</td>\n      <td>751.0</td>\n      <td>13.0</td>\n      <td>0.0</td>\n    </tr>\n    <tr>\n      <th>2020-03-19T21:13:40</th>\n      <td>US</td>\n      <td>California</td>\n      <td>0</td>\n      <td>2020-03-19T21:13:40</td>\n      <td>952.0</td>\n      <td>18.0</td>\n      <td>0.0</td>\n    </tr>\n    <tr>\n      <th>2020-03-20T23:43:03</th>\n      <td>US</td>\n      <td>California</td>\n      <td>0</td>\n      <td>2020-03-20T23:43:03</td>\n      <td>1177.0</td>\n      <td>23.0</td>\n      <td>0.0</td>\n    </tr>\n    <tr>\n      <th>2020-03-21T22:43:04</th>\n      <td>US</td>\n      <td>California</td>\n      <td>0</td>\n      <td>2020-03-21T22:43:04</td>\n      <td>1364.0</td>\n      <td>24.0</td>\n      <td>0.0</td>\n    </tr>\n    <tr>\n      <th>2020-03-23</th>\n      <td>USUSUSUSUSUSUSUSUSUSUSUSUSUSUSUSUSUSUSUSUSUSUS...</td>\n      <td>CaliforniaCaliforniaCaliforniaCaliforniaCalifo...</td>\n      <td>AlamedaAlpineAmadorButteCalaverasColusaContra ...</td>\n      <td>2020-03-23 23:19:342020-03-23 23:19:342020-03-...</td>\n      <td>2108.0</td>\n      <td>39.0</td>\n      <td>0.0</td>\n    </tr>\n    <tr>\n      <th>2020-03-24</th>\n      <td>USUSUSUSUSUSUSUSUSUSUSUSUSUSUSUSUSUSUSUSUSUSUS...</td>\n      <td>CaliforniaCaliforniaCaliforniaCaliforniaCalifo...</td>\n      <td>AlamedaAlpineAmadorButteCalaverasColusaContra ...</td>\n      <td>2020-03-24 23:37:312020-03-24 23:37:312020-03-...</td>\n      <td>2538.0</td>\n      <td>50.0</td>\n      <td>0.0</td>\n    </tr>\n    <tr>\n      <th>2020-03-25</th>\n      <td>USUSUSUSUSUSUSUSUSUSUSUSUSUSUSUSUSUSUSUSUSUSUS...</td>\n      <td>CaliforniaCaliforniaCaliforniaCaliforniaCalifo...</td>\n      <td>AlamedaAlpineAmadorButteCalaverasColusaContra ...</td>\n      <td>2020-03-25 23:33:192020-03-25 23:33:192020-03-...</td>\n      <td>2998.0</td>\n      <td>65.0</td>\n      <td>0.0</td>\n    </tr>\n    <tr>\n      <th>2020-03-26</th>\n      <td>USUSUSUSUSUSUSUSUSUSUSUSUSUSUSUSUSUSUSUSUSUSUS...</td>\n      <td>CaliforniaCaliforniaCaliforniaCaliforniaCalifo...</td>\n      <td>AlamedaAlpineAmadorButteCalaverasColusaContra ...</td>\n      <td>2020-03-26 23:48:352020-03-26 23:48:352020-03-...</td>\n      <td>3899.0</td>\n      <td>81.0</td>\n      <td>0.0</td>\n    </tr>\n    <tr>\n      <th>2020-03-27</th>\n      <td>USUSUSUSUSUSUSUSUSUSUSUSUSUSUSUSUSUSUSUSUSUSUS...</td>\n      <td>CaliforniaCaliforniaCaliforniaCaliforniaCalifo...</td>\n      <td>AlamedaAlpineAmadorButteCalaverasColusaContra ...</td>\n      <td>2020-03-27 22:14:552020-03-27 22:14:552020-03-...</td>\n      <td>4657.0</td>\n      <td>94.0</td>\n      <td>0.0</td>\n    </tr>\n    <tr>\n      <th>2020-03-28</th>\n      <td>USUSUSUSUSUSUSUSUSUSUSUSUSUSUSUSUSUSUSUSUSUSUS...</td>\n      <td>CaliforniaCaliforniaCaliforniaCaliforniaCalifo...</td>\n      <td>AlamedaAlpineAmadorButteCalaverasColusaContra ...</td>\n      <td>2020-03-28 23:05:372020-03-28 23:05:372020-03-...</td>\n      <td>5095.0</td>\n      <td>110.0</td>\n      <td>0.0</td>\n    </tr>\n    <tr>\n      <th>2020-03-29</th>\n      <td>USUSUSUSUSUSUSUSUSUSUSUSUSUSUSUSUSUSUSUSUSUSUS...</td>\n      <td>CaliforniaCaliforniaCaliforniaCaliforniaCalifo...</td>\n      <td>AlamedaAlpineAmadorButteCalaverasColusaContra ...</td>\n      <td>2020-03-29 23:08:252020-03-29 23:08:252020-03-...</td>\n      <td>5852.0</td>\n      <td>124.0</td>\n      <td>0.0</td>\n    </tr>\n    <tr>\n      <th>2020-03-30</th>\n      <td>USUSUSUSUSUSUSUSUSUSUSUSUSUSUSUSUSUSUSUSUSUSUS...</td>\n      <td>CaliforniaCaliforniaCaliforniaCaliforniaCalifo...</td>\n      <td>AlamedaAlpineAmadorButteCalaverasColusaContra ...</td>\n      <td>2020-03-30 22:52:452020-03-30 22:52:452020-03-...</td>\n      <td>7138.0</td>\n      <td>146.0</td>\n      <td>0.0</td>\n    </tr>\n    <tr>\n      <th>2020-03-31</th>\n      <td>USUSUSUSUSUSUSUSUSUSUSUSUSUSUSUSUSUSUSUSUSUSUS...</td>\n      <td>CaliforniaCaliforniaCaliforniaCaliforniaCalifo...</td>\n      <td>AlamedaAmadorButteCalaverasColusaContra CostaE...</td>\n      <td>2020-03-31 23:43:562020-03-31 23:43:562020-03-...</td>\n      <td>8210.0</td>\n      <td>173.0</td>\n      <td>0.0</td>\n    </tr>\n    <tr>\n      <th>2020-04-01</th>\n      <td>USUSUSUSUSUSUSUSUSUSUSUSUSUSUSUSUSUSUSUSUSUSUS...</td>\n      <td>CaliforniaCaliforniaCaliforniaCaliforniaCalifo...</td>\n      <td>AlamedaAlpineAmadorButteCalaverasColusaContra ...</td>\n      <td>2020-04-01 21:58:492020-04-01 21:58:492020-04-...</td>\n      <td>9399.0</td>\n      <td>199.0</td>\n      <td>0.0</td>\n    </tr>\n    <tr>\n      <th>2020-04-02</th>\n      <td>USUSUSUSUSUSUSUSUSUSUSUSUSUSUSUSUSUSUSUSUSUSUS...</td>\n      <td>CaliforniaCaliforniaCaliforniaCaliforniaCalifo...</td>\n      <td>AlamedaAlpineAmadorButteCalaverasColusaContra ...</td>\n      <td>2020-04-02 23:25:272020-04-02 23:25:272020-04-...</td>\n      <td>10773.0</td>\n      <td>238.0</td>\n      <td>0.0</td>\n    </tr>\n    <tr>\n      <th>2020-04-03</th>\n      <td>USUSUSUSUSUSUSUSUSUSUSUSUSUSUSUSUSUSUSUSUSUSUS...</td>\n      <td>CaliforniaCaliforniaCaliforniaCaliforniaCalifo...</td>\n      <td>AlamedaAlpineAmadorButteCalaverasColusaContra ...</td>\n      <td>2020-04-03 22:46:372020-04-03 22:46:372020-04-...</td>\n      <td>12004.0</td>\n      <td>265.0</td>\n      <td>0.0</td>\n    </tr>\n    <tr>\n      <th>3/22/20</th>\n      <td>USUSUSUSUSUSUSUSUSUSUSUSUSUSUSUSUSUSUSUSUSUSUS...</td>\n      <td>CaliforniaCaliforniaCaliforniaCaliforniaCalifo...</td>\n      <td>Los AngelesSanta ClaraSan DiegoSan MateoSan Fr...</td>\n      <td>3/22/20 23:453/22/20 23:453/22/20 23:453/22/20...</td>\n      <td>1646.0</td>\n      <td>30.0</td>\n      <td>0.0</td>\n    </tr>\n  </tbody>\n</table>\n<p>77 rows × 7 columns</p>\n</div>"
     },
     "metadata": {},
     "execution_count": 16
    }
   ],
   "source": [
    "combine_CA = combine_subset[(combine_subset['Province_State'].str.contains(state, na=False))]\n",
    "\n",
    "combine_CA.groupby(['Last_Update_date']).agg([np.sum])"
   ]
  },
  {
   "cell_type": "code",
   "execution_count": null,
   "metadata": {},
   "outputs": [],
   "source": []
  }
 ]
}